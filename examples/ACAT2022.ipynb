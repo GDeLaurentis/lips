{
 "cells": [
  {
   "cell_type": "markdown",
   "id": "6c7afb48",
   "metadata": {},
   "source": [
    "# Singular and $\\boldsymbol p$-adic phase space: a generator for theory computations\n",
    "### by Giuseppe De Laurentis $-$ Paul Scherrer Institute\n",
    "### [ACAT 2022 indico contribution](https://indico.cern.ch/event/1106990/contributions/4997241/)"
   ]
  },
  {
   "cell_type": "markdown",
   "id": "e59a7295",
   "metadata": {},
   "source": [
    "## Imports"
   ]
  },
  {
   "cell_type": "code",
   "execution_count": null,
   "id": "815cf58c",
   "metadata": {},
   "outputs": [],
   "source": [
    "from lips import Particles\n",
    "from lips.fields import Field"
   ]
  },
  {
   "cell_type": "markdown",
   "id": "8d60df4b",
   "metadata": {},
   "source": [
    "## High-multiplicity multi-loop amplitudes"
   ]
  },
  {
   "cell_type": "markdown",
   "id": "f67b4c97",
   "metadata": {},
   "source": [
    "The following is one of the entries in the space of rational coefficients of a 2-loop 3-photon amplitude"
   ]
  },
  {
   "cell_type": "code",
   "execution_count": null,
   "id": "88c5bf7d",
   "metadata": {},
   "outputs": [],
   "source": [
    "mandelstam_expression = \"(1/(⟨14⟩^2⟨15⟩^2⟨23⟩^2))⟨12⟩^3⟨13⟩((4s23(-(s23s34+(s15-s34)s45)^3(s23s34+s45(s15+s34+s45))+s12^3(s15-s23)(s15^3s45+s23^2s34(-s23+s45)+s15^2s45(-s23+s45)+s15(s23^2s34-s23s45^2-s34s45^2))-s12^2(3s15^4s45^2+s15^3s45^2(-4s23-2s34+3s45)+s23s34^2(3s23^3-4s23^2s45+s45^3)+s15^2(-s23s45^2(s34+4s45)-s34s45^2(s34+5s45)+s23^2(s34^2+s45^2))+s15(-4s23^3s34^2+2s34^2s45^3+s23s34s45^2(s34+2s45)+s23^2s45(s34^2+s45^2)))+s12(3s15^4s45^3+s15^3s45^2(4s23s34-2s23s45-4s34s45+3s45^2)+s34^2(s23-s45)^2(3s23^2s34-s34s45^2+s23s45(s34+s45))-s15^2s45(s23^2s34(s34+s45)+s34s45^2(s34+7s45)+2s23s45(2s34^2-s34s45+s45^2))-s15s34(s23-s45)(2s23^2s34(s34-2s45)+s34s45^2(2s34+5s45)+s23s45(2s34^2+2s34s45+s45^2)))))/(3s12^3(s15-s23)s34(s12+s23-s45)s45(s15+s45)(-s12+s34+s45))+(4s23((s23s34+(s15-s34)s45)^2(s23s34+s45(s15+s34+s45))+s12^2(s23^2s34(s23-s45)+s15^3s45+s15^2s45(-s23+s45)-s15(s23^2s34+s23s45^2+s34s45^2))+s12(-2s15^3s45^2+s34^2(-2s23^3+2s23^2s45+s23s45^2-s45^3)+s15^2s45((s34-2s45)s45+s23(-s34+s45))+s15(s23^2s34(s34-s45)+s23s45^3+s34s45^2(s34+3s45))))(-tr5_1234))/(3s12^3(s15-s23)s34(s12+s23-s45)(s12-s34-s45)s45(s15+s45)))[31]\"\n",
    "spinor_expression = \"(8/3s23⟨24⟩[34])/(⟨15⟩⟨34⟩⟨45⟩⟨4|1+5|4])\""
   ]
  },
  {
   "cell_type": "markdown",
   "id": "eaf7f5d6",
   "metadata": {},
   "source": [
    "We can take string length as a proxy for complexity:"
   ]
  },
  {
   "cell_type": "code",
   "execution_count": null,
   "id": "74fc3919",
   "metadata": {},
   "outputs": [],
   "source": [
    "print(f\"String length: {len(spinor_expression) / len(mandelstam_expression) * 100:.2f}%\")"
   ]
  },
  {
   "cell_type": "markdown",
   "id": "b2ba4a83",
   "metadata": {},
   "source": [
    "To convince you they are really the same thing, let's evaluate them numerically"
   ]
  },
  {
   "cell_type": "code",
   "execution_count": null,
   "id": "141740c8",
   "metadata": {},
   "outputs": [],
   "source": [
    "oParticles = Particles(5)  # random (complex) phase space point with 5 massless legs"
   ]
  },
  {
   "cell_type": "code",
   "execution_count": null,
   "id": "4d00d72d",
   "metadata": {},
   "outputs": [],
   "source": [
    "complex(oParticles(mandelstam_expression))"
   ]
  },
  {
   "cell_type": "code",
   "execution_count": null,
   "id": "caffe60d",
   "metadata": {},
   "outputs": [],
   "source": [
    "complex(oParticles(spinor_expression) + oParticles.image((\"12354\", False))(spinor_expression))"
   ]
  },
  {
   "cell_type": "code",
   "execution_count": null,
   "id": "2aea451b",
   "metadata": {},
   "outputs": [],
   "source": [
    "assert complex(oParticles(mandelstam_expression)) - complex(oParticles(spinor_expression) + oParticles.image((\"12354\", False))(spinor_expression)) == 0"
   ]
  },
  {
   "cell_type": "markdown",
   "id": "884aa127",
   "metadata": {},
   "source": [
    "## Flash overview of Lips"
   ]
  },
  {
   "cell_type": "markdown",
   "id": "e4323754",
   "metadata": {},
   "source": [
    "$\\mathbb{C}$ phase space point with 300 digits; the field characteristic is zero. This is the default choice of field."
   ]
  },
  {
   "cell_type": "code",
   "execution_count": null,
   "id": "dd16f19e",
   "metadata": {},
   "outputs": [],
   "source": [
    "oParticles_complex = Particles(5, field=Field(\"mpc\", 0, 300), seed=0)"
   ]
  },
  {
   "cell_type": "code",
   "execution_count": null,
   "id": "bb569741",
   "metadata": {},
   "outputs": [],
   "source": [
    "oParticles_complex(mandelstam_expression)"
   ]
  },
  {
   "cell_type": "markdown",
   "id": "29657d14",
   "metadata": {},
   "source": [
    "$\\mathbb{Q}[i]$ phase space point; the field representation is exact, so digits is ignored; the field characteristic is zero."
   ]
  },
  {
   "cell_type": "code",
   "execution_count": null,
   "id": "0c647416",
   "metadata": {},
   "outputs": [],
   "source": [
    "oParticles_gaussian_rational = Particles(5, field=Field(\"gaussian rational\", 0, 0), seed=0)"
   ]
  },
  {
   "cell_type": "code",
   "execution_count": null,
   "id": "0d11c12b",
   "metadata": {},
   "outputs": [],
   "source": [
    "oParticles_gaussian_rational(mandelstam_expression)"
   ]
  },
  {
   "cell_type": "markdown",
   "id": "2b740395",
   "metadata": {},
   "source": [
    "$\\mathbb{F}_{2^{31} -1}$ phase space point; the field is exact, so digits is ignored; the field chracteristic is $2^{31} - 1$"
   ]
  },
  {
   "cell_type": "code",
   "execution_count": null,
   "id": "abf1faee",
   "metadata": {},
   "outputs": [],
   "source": [
    "oParticles_finite_field = Particles(5, field=Field(\"finite field\", 2 ** 31 - 1, 1), seed=0)"
   ]
  },
  {
   "cell_type": "code",
   "execution_count": null,
   "id": "03a44b4e",
   "metadata": {},
   "outputs": [],
   "source": [
    "oParticles_finite_field(mandelstam_expression)"
   ]
  },
  {
   "cell_type": "markdown",
   "id": "202b0f47",
   "metadata": {},
   "source": [
    "$\\mathbb{Q}_{2^{31} -1}$ phase space point with 3 digits; "
   ]
  },
  {
   "cell_type": "code",
   "execution_count": null,
   "id": "aede2033",
   "metadata": {},
   "outputs": [],
   "source": [
    "oParticles_padic = Particles(5, field=Field(\"padic\", 2 ** 31 - 1, 3), seed=0)"
   ]
  },
  {
   "cell_type": "code",
   "execution_count": null,
   "id": "dcf27e17",
   "metadata": {},
   "outputs": [],
   "source": [
    "oParticles_padic(mandelstam_expression)"
   ]
  },
  {
   "cell_type": "markdown",
   "id": "cb454a38",
   "metadata": {},
   "source": [
    "Currently, the randomization is done differently for finite fields and $p$-adic numbers, so the first $p$-adic digit here doesn't match the finite field result. If one started from the same rational ($\\mathbb{Q}$) phase space point, then the first digits would match."
   ]
  },
  {
   "cell_type": "markdown",
   "id": "c4df7fc9",
   "metadata": {},
   "source": [
    "## Dependencies"
   ]
  },
  {
   "cell_type": "markdown",
   "id": "a590fe1f",
   "metadata": {},
   "source": [
    "\"Standard\" packages:"
   ]
  },
  {
   "cell_type": "code",
   "execution_count": null,
   "id": "4de71021",
   "metadata": {},
   "outputs": [],
   "source": [
    "import numpy, sympy, mpmath"
   ]
  },
  {
   "cell_type": "markdown",
   "id": "865263b4",
   "metadata": {},
   "source": [
    "### pyAdic"
   ]
  },
  {
   "cell_type": "code",
   "execution_count": null,
   "id": "b5dbf5a1",
   "metadata": {},
   "outputs": [],
   "source": [
    "import pyadic\n",
    "from pyadic import PAdic, ModP\n",
    "from pyadic.finite_field import finite_field_sqrt\n",
    "from pyadic.padic import padic_sqrt, padic_log\n",
    "from fractions import Fraction as Q"
   ]
  },
  {
   "cell_type": "markdown",
   "id": "d4a8a4d6",
   "metadata": {},
   "source": [
    "finite fields are essentially numbers modulo a prime"
   ]
  },
  {
   "cell_type": "code",
   "execution_count": null,
   "id": "3804cfd9",
   "metadata": {},
   "outputs": [],
   "source": [
    "ModP(Q(11, 13), 2 ** 31 - 1)"
   ]
  },
  {
   "cell_type": "markdown",
   "id": "b101a4c9",
   "metadata": {},
   "source": [
    "$p$-adic numbers are like a Laurent series in $p$, with p prime. If the first digit corresponds to $p^0=1$, then this first digit is analogous to a finite field."
   ]
  },
  {
   "cell_type": "code",
   "execution_count": null,
   "id": "4538d612",
   "metadata": {},
   "outputs": [],
   "source": [
    "PAdic(Q(11, 13), 2 ** 31 - 1, 3)"
   ]
  },
  {
   "cell_type": "markdown",
   "id": "90726b43",
   "metadata": {},
   "source": [
    "in $\\mathbb{Q}_p$ you can divide by p"
   ]
  },
  {
   "cell_type": "code",
   "execution_count": null,
   "id": "e19531ad",
   "metadata": {},
   "outputs": [],
   "source": [
    "1 / PAdic(2 ** 31 - 1, 2 ** 31 - 1, 3)"
   ]
  },
  {
   "cell_type": "markdown",
   "id": "bc45bd83",
   "metadata": {},
   "source": [
    "By default, I choose to keep track of the $\\mathcal{O}$ term (i.e. any shown digit is significant)"
   ]
  },
  {
   "cell_type": "code",
   "execution_count": null,
   "id": "b7644027",
   "metadata": {},
   "outputs": [],
   "source": [
    "assert pyadic.padic.fixed_relative_precision is False"
   ]
  },
  {
   "cell_type": "code",
   "execution_count": null,
   "id": "e7518521",
   "metadata": {},
   "outputs": [],
   "source": [
    "PAdic(Q(11, 13), 2 ** 31 - 1, 3) - PAdic(Q(11, 13), 2 ** 31 - 1, 3)"
   ]
  },
  {
   "cell_type": "markdown",
   "id": "37656739",
   "metadata": {},
   "source": [
    "It's also possible to emulate the usual floating point behavior (precision loss means \"random\" digits get appended)"
   ]
  },
  {
   "cell_type": "code",
   "execution_count": null,
   "id": "ee41c6ca",
   "metadata": {},
   "outputs": [],
   "source": [
    "pyadic.padic.fixed_relative_precision = True"
   ]
  },
  {
   "cell_type": "code",
   "execution_count": null,
   "id": "21d1dd26",
   "metadata": {},
   "outputs": [],
   "source": [
    "PAdic(Q(11, 13), 2 ** 31 - 1, 3) - PAdic(Q(11, 13), 2 ** 31 - 1, 3)"
   ]
  },
  {
   "cell_type": "markdown",
   "id": "643f0ed2",
   "metadata": {},
   "source": [
    "Let's reset it to the default."
   ]
  },
  {
   "cell_type": "code",
   "execution_count": null,
   "id": "20fb3fd2",
   "metadata": {},
   "outputs": [],
   "source": [
    "pyadic.padic.fixed_relative_precision = False"
   ]
  },
  {
   "cell_type": "markdown",
   "id": "8dd58ceb",
   "metadata": {},
   "source": [
    "Square roots may or may not be in the field. This first one is:"
   ]
  },
  {
   "cell_type": "code",
   "execution_count": null,
   "id": "1522fbf9",
   "metadata": {},
   "outputs": [],
   "source": [
    "padic_sqrt(PAdic(Q(9, 13), 2 ** 31 - 1, 3))"
   ]
  },
  {
   "cell_type": "markdown",
   "id": "13434a17",
   "metadata": {},
   "source": [
    "while this other one is in a field extension:"
   ]
  },
  {
   "cell_type": "code",
   "execution_count": null,
   "id": "392506e2",
   "metadata": {},
   "outputs": [],
   "source": [
    "padic_sqrt(PAdic(Q(11, 13), 2 ** 31 - 1, 3))"
   ]
  },
  {
   "cell_type": "markdown",
   "id": "9d370aa5",
   "metadata": {},
   "source": [
    "You can compute logarithms, and potentially more (e.g. dilogs, but these are not implemented -- yet)"
   ]
  },
  {
   "cell_type": "code",
   "execution_count": null,
   "id": "b7d969d1",
   "metadata": {},
   "outputs": [],
   "source": [
    "padic_log(PAdic(Q(11, 13), 2 ** 31 - 1, 3))"
   ]
  },
  {
   "cell_type": "markdown",
   "id": "5b7f12af",
   "metadata": {},
   "source": [
    "### syngular\n",
    "#### Interfaces to [Singular](https://www.singular.uni-kl.de/)"
   ]
  },
  {
   "cell_type": "code",
   "execution_count": null,
   "id": "08eb7dfb",
   "metadata": {},
   "outputs": [],
   "source": [
    "from syngular import Ring, QuotientRing, Ideal"
   ]
  },
  {
   "cell_type": "markdown",
   "id": "b4e0b292",
   "metadata": {},
   "source": [
    "You can define rings"
   ]
  },
  {
   "cell_type": "code",
   "execution_count": null,
   "id": "1d4d71c1",
   "metadata": {},
   "outputs": [],
   "source": [
    "help(Ring.__init__)"
   ]
  },
  {
   "cell_type": "code",
   "execution_count": null,
   "id": "ddad6952",
   "metadata": {},
   "outputs": [],
   "source": [
    "ring = Ring('0', ('x1', 'x2'), 'dp')"
   ]
  },
  {
   "cell_type": "markdown",
   "id": "1af1c7a0",
   "metadata": {},
   "source": [
    "Ideals over rings"
   ]
  },
  {
   "cell_type": "code",
   "execution_count": null,
   "id": "9129207c",
   "metadata": {},
   "outputs": [],
   "source": [
    "help(Ideal.__init__)"
   ]
  },
  {
   "cell_type": "code",
   "execution_count": null,
   "id": "2f7410d1",
   "metadata": {},
   "outputs": [],
   "source": [
    "J = Ideal(ring, ['x1', 'x2'])"
   ]
  },
  {
   "cell_type": "markdown",
   "id": "37e8815a",
   "metadata": {},
   "source": [
    "and quotient rings"
   ]
  },
  {
   "cell_type": "code",
   "execution_count": null,
   "id": "b1f0838d",
   "metadata": {},
   "outputs": [],
   "source": [
    "qring = QuotientRing(ring, J)"
   ]
  },
  {
   "cell_type": "markdown",
   "id": "e28fd5d5",
   "metadata": {},
   "source": [
    "## Lips"
   ]
  },
  {
   "cell_type": "markdown",
   "id": "5a6c66de",
   "metadata": {},
   "source": [
    "$i \\not\\in \\mathbb{F}_{2147483647}$ so the four momentum isn't in the field either"
   ]
  },
  {
   "cell_type": "code",
   "execution_count": null,
   "id": "9864fd6a",
   "metadata": {},
   "outputs": [],
   "source": [
    "oPs = Particles(5, field=Field(\"finite field\", 2 ** 31 - 1, 1))"
   ]
  },
  {
   "cell_type": "code",
   "execution_count": null,
   "id": "d00ead08",
   "metadata": {},
   "outputs": [],
   "source": [
    "oPs[1].r2_sp  # rank-two spinor is always in the field!"
   ]
  },
  {
   "cell_type": "code",
   "execution_count": null,
   "id": "aa65f3b7",
   "metadata": {},
   "outputs": [],
   "source": [
    "oPs[1].four_mom  # for efficiency reasons this is set to None (instead of using pyadic.FieldExtension)"
   ]
  },
  {
   "cell_type": "markdown",
   "id": "7638809f",
   "metadata": {},
   "source": [
    "$i \\in \\mathbb{F}_{2147483629}$ so is the four momentum"
   ]
  },
  {
   "cell_type": "code",
   "execution_count": null,
   "id": "921c628c",
   "metadata": {},
   "outputs": [],
   "source": [
    "oPs = Particles(5, field=Field(\"finite field\", 2 ** 31 - 19, 1))"
   ]
  },
  {
   "cell_type": "code",
   "execution_count": null,
   "id": "5c485ec4",
   "metadata": {},
   "outputs": [],
   "source": [
    "oPs[1].r2_sp"
   ]
  },
  {
   "cell_type": "code",
   "execution_count": null,
   "id": "46238884",
   "metadata": {},
   "outputs": [],
   "source": [
    "oPs[1].four_mom"
   ]
  },
  {
   "cell_type": "markdown",
   "id": "e45a38b1",
   "metadata": {},
   "source": [
    " By default, phase space is massless and momentum conserving"
   ]
  },
  {
   "cell_type": "code",
   "execution_count": null,
   "id": "7314f658",
   "metadata": {},
   "outputs": [],
   "source": [
    "oPs.masses, oPs.total_mom"
   ]
  },
  {
   "cell_type": "markdown",
   "id": "f51abcc7",
   "metadata": {},
   "source": [
    "## Partial fractions as ideal membership"
   ]
  },
  {
   "cell_type": "code",
   "execution_count": null,
   "id": "60206520",
   "metadata": {},
   "outputs": [],
   "source": [
    "from lips.algebraic_geometry.covariant_ideal import LipsIdeal"
   ]
  },
  {
   "cell_type": "code",
   "execution_count": null,
   "id": "4a2de237",
   "metadata": {},
   "outputs": [],
   "source": [
    "oPs = Particles(5)\n",
    "oPs.make_analytical_d()"
   ]
  },
  {
   "cell_type": "code",
   "execution_count": null,
   "id": "60b3df9b",
   "metadata": {},
   "outputs": [],
   "source": [
    "oPs[\"|1⟩\"], oPs[\"[1|\"]"
   ]
  },
  {
   "cell_type": "code",
   "execution_count": null,
   "id": "1679e7d8",
   "metadata": {},
   "outputs": [],
   "source": [
    "LipsIdeal.__bases__"
   ]
  },
  {
   "cell_type": "markdown",
   "id": "a10238df",
   "metadata": {},
   "source": [
    "### Geometry of singular phase space"
   ]
  },
  {
   "cell_type": "code",
   "execution_count": null,
   "id": "b06eb701",
   "metadata": {},
   "outputs": [],
   "source": [
    "oPs = Particles(5, field=Field(\"padic\", 2 ** 31 - 1, 5))"
   ]
  },
  {
   "cell_type": "code",
   "execution_count": null,
   "id": "725e557e",
   "metadata": {},
   "outputs": [],
   "source": [
    "J = LipsIdeal(5, (\"⟨4|1+5|4]\", \"⟨5|1+4|5]\", ))\n",
    "J"
   ]
  },
  {
   "cell_type": "markdown",
   "id": "54acdc1c",
   "metadata": {},
   "source": [
    "The following line checks whether this ideal is prime (it isn't)"
   ]
  },
  {
   "cell_type": "code",
   "execution_count": null,
   "id": "6a9602e7",
   "metadata": {},
   "outputs": [],
   "source": [
    "J.test_primality(verbose=True)"
   ]
  },
  {
   "cell_type": "markdown",
   "id": "896b62e4",
   "metadata": {},
   "source": [
    "We need the following 3 prime ideals"
   ]
  },
  {
   "cell_type": "code",
   "execution_count": null,
   "id": "f46ea8ff",
   "metadata": {},
   "outputs": [],
   "source": [
    "K = LipsIdeal(5, (\"⟨14⟩\", \"⟨15⟩\", \"⟨45⟩\", \"[23]\"))\n",
    "L = LipsIdeal(5, (\"⟨12⟩\", \"⟨13⟩\", \"⟨14⟩\", \"⟨15⟩\", \"⟨23⟩\", \"⟨24⟩\", \"⟨25⟩\", \"⟨34⟩\", \"⟨35⟩\", \"⟨45⟩\"))\n",
    "M = LipsIdeal(5, (\"⟨4|1+5|4]\", \"⟨5|1+4|5]\", \"|1]⟨14⟩⟨15⟩+|4]⟨14⟩⟨45⟩-|5]⟨45⟩⟨15⟩\", \"|1⟩[14][15]+|4⟩[14][45]-|5⟩[45][15]\"))"
   ]
  },
  {
   "cell_type": "markdown",
   "id": "e11d8022",
   "metadata": {},
   "source": [
    "The following verifies they are indeed prime"
   ]
  },
  {
   "cell_type": "code",
   "execution_count": null,
   "id": "fce56ced",
   "metadata": {
    "scrolled": true
   },
   "outputs": [],
   "source": [
    "assert K.test_primality() and L.test_primality() and M.test_primality()"
   ]
  },
  {
   "cell_type": "markdown",
   "id": "2a3413c0",
   "metadata": {},
   "source": [
    "\\& operator means intersection ($\\cap$), like for sets. The following checks that the ideal J is indeed an intersection of 5 prime ideals."
   ]
  },
  {
   "cell_type": "code",
   "execution_count": null,
   "id": "39b56835",
   "metadata": {},
   "outputs": [],
   "source": [
    "assert K & K(\"12345\", True) & L & L(\"12345\", True) & M == J"
   ]
  },
  {
   "cell_type": "markdown",
   "id": "e7f0ed96",
   "metadata": {},
   "source": [
    "In other words, the variety (= hyper-surface) V(J) is the union of V(K), V(K-bar), V(L), V(L-bar) and V(M)"
   ]
  },
  {
   "cell_type": "markdown",
   "id": "3da6347a",
   "metadata": {},
   "source": [
    "### Phase-space points on irreducible varieties"
   ]
  },
  {
   "cell_type": "markdown",
   "id": "ed744ffe",
   "metadata": {},
   "source": [
    "We can now use this to find if a partial fraction decomposition is possible, using numerics only. <br>\n",
    "Normally, we have access to a \"black box function\" for the rational expression, and the common denominator."
   ]
  },
  {
   "cell_type": "code",
   "execution_count": null,
   "id": "0c2448cb",
   "metadata": {},
   "outputs": [],
   "source": [
    "black_box_function = \"(8/3s23⟨24⟩[34])/(⟨15⟩⟨34⟩⟨45⟩⟨4|1+5|4])+(8/3s23⟨25⟩[35])/(⟨14⟩⟨35⟩⟨54⟩⟨5|1+4|5])\"\n",
    "common_denominator = \"(⟨14⟩⟨15⟩⟨34⟩⟨35⟩⟨45⟩⟨4|1+5|4]⟨5|1+4|5])\""
   ]
  },
  {
   "cell_type": "code",
   "execution_count": null,
   "id": "8f07fb65",
   "metadata": {},
   "outputs": [],
   "source": [
    "oPsK = Particles(5, field=Field(\"padic\", 2 ** 31 - 1, 3), seed=0)\n",
    "oPsK._singular_variety((\"⟨4|1+5|4]\", \"⟨5|1+4|5]\"), (1, 1), generators=K.generators)"
   ]
  },
  {
   "cell_type": "code",
   "execution_count": null,
   "id": "47c2c0f7",
   "metadata": {},
   "outputs": [],
   "source": [
    "oPsK(black_box_function) * oPsK(common_denominator)  # rational * denominator is a proxy for the numerator polynomial"
   ]
  },
  {
   "cell_type": "code",
   "execution_count": null,
   "id": "6bb2c579",
   "metadata": {},
   "outputs": [],
   "source": [
    "oPsKb = Particles(5, field=Field(\"padic\", 2 ** 31 - 1, 3), seed=0)\n",
    "oPsKb._singular_variety((\"⟨4|1+5|4]\", \"⟨5|1+4|5]\"), (1, 1), generators=K(\"12345\", True).generators)"
   ]
  },
  {
   "cell_type": "code",
   "execution_count": null,
   "id": "42025a65",
   "metadata": {},
   "outputs": [],
   "source": [
    "oPsKb(black_box_function) * oPsKb(common_denominator)"
   ]
  },
  {
   "cell_type": "code",
   "execution_count": null,
   "id": "740a2e0f",
   "metadata": {},
   "outputs": [],
   "source": [
    "oPsL = Particles(5, field=Field(\"padic\", 2 ** 31 - 1, 3), seed=0)\n",
    "oPsL._singular_variety((\"⟨4|1+5|4]\", \"⟨5|1+4|5]\"), (1, 1), generators=L.generators)"
   ]
  },
  {
   "cell_type": "code",
   "execution_count": null,
   "id": "581c7aa0",
   "metadata": {},
   "outputs": [],
   "source": [
    "oPsL(black_box_function) * oPsL(common_denominator)"
   ]
  },
  {
   "cell_type": "code",
   "execution_count": null,
   "id": "c1956f3c",
   "metadata": {},
   "outputs": [],
   "source": [
    "oPsLb = Particles(5, field=Field(\"padic\", 2 ** 31 - 1, 3), seed=0)\n",
    "oPsLb._singular_variety((\"⟨4|1+5|4]\", \"⟨5|1+4|5]\"), (1, 1), generators=L(\"12345\", True).generators)"
   ]
  },
  {
   "cell_type": "code",
   "execution_count": null,
   "id": "1c4929ce",
   "metadata": {},
   "outputs": [],
   "source": [
    "oPsL(black_box_function) * oPsL(common_denominator)"
   ]
  },
  {
   "cell_type": "code",
   "execution_count": null,
   "id": "c03e0309",
   "metadata": {},
   "outputs": [],
   "source": [
    "oPsM = Particles(5, field=Field(\"padic\", 2 ** 31 - 1, 3), seed=0)\n",
    "oPsM._singular_variety((\"⟨4|1+5|4]\", \"⟨5|1+4|5]\"), (1, 1), generators=M.generators)"
   ]
  },
  {
   "cell_type": "code",
   "execution_count": null,
   "id": "0386a00f",
   "metadata": {},
   "outputs": [],
   "source": [
    "oPsM(black_box_function) * oPsM(common_denominator)"
   ]
  },
  {
   "cell_type": "markdown",
   "id": "fff4ab0e",
   "metadata": {},
   "source": [
    "Since in all cases the result is proportional to the prime, by [Hilbert's Nullstellensatz](https://en.wikipedia.org/wiki/Hilbert%27s_Nullstellensatz) (or the Zariski-Nagata theorem), we can partial fraction $⟨4|1+5|4]$ and $⟨5|1+4|5]$"
   ]
  },
  {
   "cell_type": "markdown",
   "id": "5492acff",
   "metadata": {},
   "source": [
    "This is one step to \"reconstruct\" the black box as a concise expression (or simplify previous results, like the expression in Mandelstams)"
   ]
  }
 ],
 "metadata": {
  "kernelspec": {
   "display_name": "Python 3",
   "language": "python",
   "name": "python3"
  },
  "language_info": {
   "codemirror_mode": {
    "name": "ipython",
    "version": 3
   },
   "file_extension": ".py",
   "mimetype": "text/x-python",
   "name": "python",
   "nbconvert_exporter": "python",
   "pygments_lexer": "ipython3",
   "version": "3.8.10"
  },
  "toc": {
   "base_numbering": 1,
   "nav_menu": {},
   "number_sections": true,
   "sideBar": true,
   "skip_h1_title": true,
   "title_cell": "Table of Contents",
   "title_sidebar": "Contents",
   "toc_cell": false,
   "toc_position": {},
   "toc_section_display": true,
   "toc_window_display": false
  }
 },
 "nbformat": 4,
 "nbformat_minor": 5
}
