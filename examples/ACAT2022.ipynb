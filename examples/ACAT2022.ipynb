{
 "cells": [
  {
   "cell_type": "markdown",
   "id": "719cc04a",
   "metadata": {},
   "source": [
    "# Singular and $\\boldsymbol p$-adic phase space: a generator for theory computations\n",
    "### by Giuseppe De Laurentis $-$ Paul Scherrer Institute\n",
    "### [ACAT 2022 indico contribution](https://indico.cern.ch/event/1106990/contributions/4997241/)"
   ]
  },
  {
   "cell_type": "markdown",
   "id": "1b918555",
   "metadata": {},
   "source": [
    "## Imports"
   ]
  },
  {
   "cell_type": "code",
   "execution_count": null,
   "id": "af9e2894",
   "metadata": {},
   "outputs": [],
   "source": [
    "from lips import Particles\n",
    "from lips.fields import Field"
   ]
  },
  {
   "cell_type": "markdown",
   "id": "6c314d46",
   "metadata": {},
   "source": [
    "## High-multiplicity multi-loop amplitudes"
   ]
  },
  {
   "cell_type": "markdown",
   "id": "392a90f0",
   "metadata": {},
   "source": [
    "The following is one of the entries in the space of rational coefficients of a 2-loop 3-photon amplitude"
   ]
  },
  {
   "cell_type": "code",
   "execution_count": null,
   "id": "82cfb792",
   "metadata": {},
   "outputs": [],
   "source": [
    "mandelstam_expression = \"(1/(⟨14⟩^2⟨15⟩^2⟨23⟩^2))⟨12⟩^3⟨13⟩((4s23(-(s23s34+(s15-s34)s45)^3(s23s34+s45(s15+s34+s45))+s12^3(s15-s23)(s15^3s45+s23^2s34(-s23+s45)+s15^2s45(-s23+s45)+s15(s23^2s34-s23s45^2-s34s45^2))-s12^2(3s15^4s45^2+s15^3s45^2(-4s23-2s34+3s45)+s23s34^2(3s23^3-4s23^2s45+s45^3)+s15^2(-s23s45^2(s34+4s45)-s34s45^2(s34+5s45)+s23^2(s34^2+s45^2))+s15(-4s23^3s34^2+2s34^2s45^3+s23s34s45^2(s34+2s45)+s23^2s45(s34^2+s45^2)))+s12(3s15^4s45^3+s15^3s45^2(4s23s34-2s23s45-4s34s45+3s45^2)+s34^2(s23-s45)^2(3s23^2s34-s34s45^2+s23s45(s34+s45))-s15^2s45(s23^2s34(s34+s45)+s34s45^2(s34+7s45)+2s23s45(2s34^2-s34s45+s45^2))-s15s34(s23-s45)(2s23^2s34(s34-2s45)+s34s45^2(2s34+5s45)+s23s45(2s34^2+2s34s45+s45^2)))))/(3s12^3(s15-s23)s34(s12+s23-s45)s45(s15+s45)(-s12+s34+s45))+(4s23((s23s34+(s15-s34)s45)^2(s23s34+s45(s15+s34+s45))+s12^2(s23^2s34(s23-s45)+s15^3s45+s15^2s45(-s23+s45)-s15(s23^2s34+s23s45^2+s34s45^2))+s12(-2s15^3s45^2+s34^2(-2s23^3+2s23^2s45+s23s45^2-s45^3)+s15^2s45((s34-2s45)s45+s23(-s34+s45))+s15(s23^2s34(s34-s45)+s23s45^3+s34s45^2(s34+3s45))))(-tr5_1234))/(3s12^3(s15-s23)s34(s12+s23-s45)(s12-s34-s45)s45(s15+s45)))[31]\"\n",
    "spinor_expression = \"(8/3s23⟨24⟩[34])/(⟨15⟩⟨34⟩⟨45⟩⟨4|1+5|4])\""
   ]
  },
  {
   "cell_type": "markdown",
   "id": "be5ce838",
   "metadata": {},
   "source": [
    "We can take string length as a proxy for complexity:"
   ]
  },
  {
   "cell_type": "code",
   "execution_count": null,
   "id": "20b1956c",
   "metadata": {},
   "outputs": [],
   "source": [
    "print(f\"String length: {len(spinor_expression) / len(mandelstam_expression) * 100:.2f}%\")"
   ]
  },
  {
   "cell_type": "markdown",
   "id": "4e58e667",
   "metadata": {},
   "source": [
    "To convince you they are really the same thing, let's evaluate them numerically"
   ]
  },
  {
   "cell_type": "code",
   "execution_count": null,
   "id": "9da1d1e3",
   "metadata": {},
   "outputs": [],
   "source": [
    "oParticles = Particles(5)  # random (complex) phase space point with 5 massless legs"
   ]
  },
  {
   "cell_type": "code",
   "execution_count": null,
   "id": "3a148afb",
   "metadata": {},
   "outputs": [],
   "source": [
    "complex(oParticles(mandelstam_expression))"
   ]
  },
  {
   "cell_type": "code",
   "execution_count": null,
   "id": "2bcad6ec",
   "metadata": {},
   "outputs": [],
   "source": [
    "complex(oParticles(spinor_expression) + oParticles.image((\"12354\", False))(spinor_expression))"
   ]
  },
  {
   "cell_type": "code",
   "execution_count": null,
   "id": "f076ce4c",
   "metadata": {},
   "outputs": [],
   "source": [
    "assert complex(oParticles(mandelstam_expression)) - complex(oParticles(spinor_expression) + oParticles.image((\"12354\", False))(spinor_expression)) == 0"
   ]
  },
  {
   "cell_type": "markdown",
   "id": "a707e708",
   "metadata": {},
   "source": [
    "## Flash overview of Lips"
   ]
  },
  {
   "cell_type": "markdown",
   "id": "2911c6d7",
   "metadata": {},
   "source": [
    "$\\mathbb{C}$ phase space point with 300 digits; the field characteristic is zero. This is the default choice of field."
   ]
  },
  {
   "cell_type": "code",
   "execution_count": null,
   "id": "f8baf5b3",
   "metadata": {},
   "outputs": [],
   "source": [
    "oParticles_complex = Particles(5, field=Field(\"mpc\", 0, 300), seed=0)"
   ]
  },
  {
   "cell_type": "code",
   "execution_count": null,
   "id": "f9068d0e",
   "metadata": {},
   "outputs": [],
   "source": [
    "oParticles_complex(mandelstam_expression)"
   ]
  },
  {
   "cell_type": "markdown",
   "id": "561524a2",
   "metadata": {},
   "source": [
    "$\\mathbb{Q}[i]$ phase space point; the field representation is exact, so digits is ignored; the field characteristic is zero."
   ]
  },
  {
   "cell_type": "code",
   "execution_count": null,
   "id": "67bbe2f3",
   "metadata": {},
   "outputs": [],
   "source": [
    "oParticles_gaussian_rational = Particles(5, field=Field(\"gaussian rational\", 0, 0), seed=0)"
   ]
  },
  {
   "cell_type": "code",
   "execution_count": null,
   "id": "8e12832b",
   "metadata": {},
   "outputs": [],
   "source": [
    "oParticles_gaussian_rational(mandelstam_expression)"
   ]
  },
  {
   "cell_type": "markdown",
   "id": "6f5d2c22",
   "metadata": {},
   "source": [
    "$\\mathbb{F}_{2^{31} -1}$ phase space point; the field is exact, so digits is ignored; the field chracteristic is $2^{31} - 1$"
   ]
  },
  {
   "cell_type": "code",
   "execution_count": null,
   "id": "787069a6",
   "metadata": {},
   "outputs": [],
   "source": [
    "oParticles_finite_field = Particles(5, field=Field(\"finite field\", 2 ** 31 - 1, 1), seed=0)"
   ]
  },
  {
   "cell_type": "code",
   "execution_count": null,
   "id": "50b61f57",
   "metadata": {},
   "outputs": [],
   "source": [
    "oParticles_finite_field(mandelstam_expression)"
   ]
  },
  {
   "cell_type": "markdown",
   "id": "cc19b173",
   "metadata": {},
   "source": [
    "$\\mathbb{Q}_{2^{31} -1}$ phase space point with 3 digits; "
   ]
  },
  {
   "cell_type": "code",
   "execution_count": null,
   "id": "e0f1a196",
   "metadata": {},
   "outputs": [],
   "source": [
    "oParticles_padic = Particles(5, field=Field(\"padic\", 2 ** 31 - 1, 3), seed=0)"
   ]
  },
  {
   "cell_type": "code",
   "execution_count": null,
   "id": "98678872",
   "metadata": {},
   "outputs": [],
   "source": [
    "oParticles_padic(mandelstam_expression)"
   ]
  },
  {
   "cell_type": "markdown",
   "id": "50eccf44",
   "metadata": {},
   "source": [
    "Currently, the randomization is done differently for finite fields and $p$-adic numbers, so the first $p$-adic digit here doesn't match the finite field result. If one started from the same rational ($\\mathbb{Q}$) phase space point, then the first digits would match."
   ]
  },
  {
   "cell_type": "markdown",
   "id": "68630c71",
   "metadata": {},
   "source": [
    "## Dependencies"
   ]
  },
  {
   "cell_type": "markdown",
   "id": "bdb11d19",
   "metadata": {},
   "source": [
    "\"Standard\" packages:"
   ]
  },
  {
   "cell_type": "code",
   "execution_count": null,
   "id": "94ccf614",
   "metadata": {},
   "outputs": [],
   "source": [
    "import numpy, sympy, mpmath"
   ]
  },
  {
   "cell_type": "markdown",
   "id": "89fa9566",
   "metadata": {},
   "source": [
    "### pyAdic"
   ]
  },
  {
   "cell_type": "code",
   "execution_count": null,
   "id": "ec0bf15c",
   "metadata": {},
   "outputs": [],
   "source": [
    "import pyadic\n",
    "from pyadic import PAdic, ModP\n",
    "from pyadic.finite_field import finite_field_sqrt\n",
    "from pyadic.padic import padic_sqrt, padic_log\n",
    "from fractions import Fraction as Q"
   ]
  },
  {
   "cell_type": "markdown",
   "id": "719c7787",
   "metadata": {},
   "source": [
    "finite fields are essentially numbers modulo a prime"
   ]
  },
  {
   "cell_type": "code",
   "execution_count": null,
   "id": "bbfbfe3f",
   "metadata": {},
   "outputs": [],
   "source": [
    "ModP(Q(11, 13), 2 ** 31 - 1)"
   ]
  },
  {
   "cell_type": "markdown",
   "id": "6fa97d93",
   "metadata": {},
   "source": [
    "$p$-adic numbers are like a Laurent series in $p$, with p prime. If the first digit corresponds to $p^0=1$, then this first digit is analogous to a finite field."
   ]
  },
  {
   "cell_type": "code",
   "execution_count": null,
   "id": "382e3a9b",
   "metadata": {},
   "outputs": [],
   "source": [
    "PAdic(Q(11, 13), 2 ** 31 - 1, 3)"
   ]
  },
  {
   "cell_type": "markdown",
   "id": "5f54e797",
   "metadata": {},
   "source": [
    "in $\\mathbb{Q}_p$ you can divide by p"
   ]
  },
  {
   "cell_type": "code",
   "execution_count": null,
   "id": "886790e6",
   "metadata": {},
   "outputs": [],
   "source": [
    "1 / PAdic(2 ** 31 - 1, 2 ** 31 - 1, 3)"
   ]
  },
  {
   "cell_type": "markdown",
   "id": "c0080bc3",
   "metadata": {},
   "source": [
    "By default, I choose to keep track of the $\\mathcal{O}$ term (i.e. any shown digit is significant)"
   ]
  },
  {
   "cell_type": "code",
   "execution_count": null,
   "id": "61795792",
   "metadata": {},
   "outputs": [],
   "source": [
    "assert pyadic.padic.fixed_relative_precision is False"
   ]
  },
  {
   "cell_type": "code",
   "execution_count": null,
   "id": "30606529",
   "metadata": {},
   "outputs": [],
   "source": [
    "PAdic(Q(11, 13), 2 ** 31 - 1, 3) - PAdic(Q(11, 13), 2 ** 31 - 1, 3)"
   ]
  },
  {
   "cell_type": "markdown",
   "id": "0a85cdde",
   "metadata": {},
   "source": [
    "It's also possible to emulate the usual floating point behavior (precision loss means \"random\" digits get appended)"
   ]
  },
  {
   "cell_type": "code",
   "execution_count": null,
   "id": "4990edc9",
   "metadata": {},
   "outputs": [],
   "source": [
    "pyadic.padic.fixed_relative_precision = True"
   ]
  },
  {
   "cell_type": "code",
   "execution_count": null,
   "id": "014934c3",
   "metadata": {},
   "outputs": [],
   "source": [
    "PAdic(Q(11, 13), 2 ** 31 - 1, 3) - PAdic(Q(11, 13), 2 ** 31 - 1, 3)"
   ]
  },
  {
   "cell_type": "markdown",
   "id": "4f5b2591",
   "metadata": {},
   "source": [
    "Let's reset it to the default."
   ]
  },
  {
   "cell_type": "code",
   "execution_count": null,
   "id": "5dea5604",
   "metadata": {},
   "outputs": [],
   "source": [
    "pyadic.padic.fixed_relative_precision = False"
   ]
  },
  {
   "cell_type": "markdown",
   "id": "37b0b21b",
   "metadata": {},
   "source": [
    "Square roots may or may not be in the field. This first one is:"
   ]
  },
  {
   "cell_type": "code",
   "execution_count": null,
   "id": "4ea272aa",
   "metadata": {},
   "outputs": [],
   "source": [
    "padic_sqrt(PAdic(Q(9, 13), 2 ** 31 - 1, 3))"
   ]
  },
  {
   "cell_type": "markdown",
   "id": "6ace6f9d",
   "metadata": {},
   "source": [
    "while this other one is in a field extension:"
   ]
  },
  {
   "cell_type": "code",
   "execution_count": null,
   "id": "18e9d9d9",
   "metadata": {},
   "outputs": [],
   "source": [
    "padic_sqrt(PAdic(Q(11, 13), 2 ** 31 - 1, 3))"
   ]
  },
  {
   "cell_type": "markdown",
   "id": "bd8ed85b",
   "metadata": {},
   "source": [
    "You can compute logarithms, and potentially more (e.g. dilogs, but these are not implemented -- yet)"
   ]
  },
  {
   "cell_type": "code",
   "execution_count": null,
   "id": "9c49cb40",
   "metadata": {},
   "outputs": [],
   "source": [
    "padic_log(PAdic(Q(11, 13), 2 ** 31 - 1, 3))"
   ]
  },
  {
   "cell_type": "markdown",
   "id": "21aa8a04",
   "metadata": {},
   "source": [
    "### syngular\n",
    "#### Interfaces to [Singular](https://www.singular.uni-kl.de/)"
   ]
  },
  {
   "cell_type": "code",
   "execution_count": null,
   "id": "8aa2cc75",
   "metadata": {},
   "outputs": [],
   "source": [
    "from syngular import Ring, QuotientRing, Ideal"
   ]
  },
  {
   "cell_type": "markdown",
   "id": "790b55b9",
   "metadata": {},
   "source": [
    "You can define rings"
   ]
  },
  {
   "cell_type": "code",
   "execution_count": null,
   "id": "78d45165",
   "metadata": {},
   "outputs": [],
   "source": [
    "help(Ring.__init__)"
   ]
  },
  {
   "cell_type": "code",
   "execution_count": null,
   "id": "b3b76d8b",
   "metadata": {},
   "outputs": [],
   "source": [
    "ring = Ring('0', ('x1', 'x2'), 'dp')"
   ]
  },
  {
   "cell_type": "markdown",
   "id": "a45dc710",
   "metadata": {},
   "source": [
    "Ideals over rings"
   ]
  },
  {
   "cell_type": "code",
   "execution_count": null,
   "id": "ac0c93ee",
   "metadata": {},
   "outputs": [],
   "source": [
    "help(Ideal.__init__)"
   ]
  },
  {
   "cell_type": "code",
   "execution_count": null,
   "id": "d2d74267",
   "metadata": {},
   "outputs": [],
   "source": [
    "J = Ideal(ring, ['x1', 'x2'])"
   ]
  },
  {
   "cell_type": "markdown",
   "id": "80913991",
   "metadata": {},
   "source": [
    "and quotient rings"
   ]
  },
  {
   "cell_type": "code",
   "execution_count": null,
   "id": "c4f83177",
   "metadata": {},
   "outputs": [],
   "source": [
    "qring = QuotientRing(ring, J)"
   ]
  },
  {
   "cell_type": "markdown",
   "id": "61320fa9",
   "metadata": {},
   "source": [
    "## Lips"
   ]
  },
  {
   "cell_type": "markdown",
   "id": "9bd8eabe",
   "metadata": {},
   "source": [
    "$i \\not\\in \\mathbb{F}_{2147483647}$ so the four momentum isn't in the field either"
   ]
  },
  {
   "cell_type": "code",
   "execution_count": null,
   "id": "ead99e57",
   "metadata": {},
   "outputs": [],
   "source": [
    "oPs = Particles(5, field=Field(\"finite field\", 2 ** 31 - 1, 1))"
   ]
  },
  {
   "cell_type": "code",
   "execution_count": null,
   "id": "3bcb73b1",
   "metadata": {},
   "outputs": [],
   "source": [
    "oPs[1].r2_sp  # rank-two spinor is always in the field!"
   ]
  },
  {
   "cell_type": "code",
   "execution_count": null,
   "id": "aab84887",
   "metadata": {},
   "outputs": [],
   "source": [
    "oPs[1].four_mom  # for efficiency reasons this is set to None (instead of using pyadic.FieldExtension)"
   ]
  },
  {
   "cell_type": "markdown",
   "id": "4c4bb807",
   "metadata": {},
   "source": [
    "$i \\in \\mathbb{F}_{2147483629}$ so is the four momentum"
   ]
  },
  {
   "cell_type": "code",
   "execution_count": null,
   "id": "f76cebad",
   "metadata": {},
   "outputs": [],
   "source": [
    "oPs = Particles(5, field=Field(\"finite field\", 2 ** 31 - 19, 1))"
   ]
  },
  {
   "cell_type": "code",
   "execution_count": null,
   "id": "3ff43ceb",
   "metadata": {},
   "outputs": [],
   "source": [
    "oPs[1].r2_sp"
   ]
  },
  {
   "cell_type": "code",
   "execution_count": null,
   "id": "4e994844",
   "metadata": {},
   "outputs": [],
   "source": [
    "oPs[1].four_mom"
   ]
  },
  {
   "cell_type": "markdown",
   "id": "e0fd4464",
   "metadata": {},
   "source": [
    " By default, phase space is massless and momentum conserving"
   ]
  },
  {
   "cell_type": "code",
   "execution_count": null,
   "id": "7a73569c",
   "metadata": {},
   "outputs": [],
   "source": [
    "oPs.masses, oPs.total_mom"
   ]
  },
  {
   "cell_type": "markdown",
   "id": "d1e40d08",
   "metadata": {},
   "source": [
    "## Partial fractions as ideal membership"
   ]
  },
  {
   "cell_type": "code",
   "execution_count": null,
   "id": "5344e423",
   "metadata": {},
   "outputs": [],
   "source": [
    "from lips.algebraic_geometry.covariant_ideal import LipsIdeal"
   ]
  },
  {
   "cell_type": "code",
   "execution_count": null,
   "id": "31007eee",
   "metadata": {},
   "outputs": [],
   "source": [
    "oPs = Particles(5)\n",
    "oPs.make_analytical_d()"
   ]
  },
  {
   "cell_type": "code",
   "execution_count": null,
   "id": "198f5fce",
   "metadata": {},
   "outputs": [],
   "source": [
    "oPs[\"|1⟩\"], oPs[\"[1|\"]"
   ]
  },
  {
   "cell_type": "code",
   "execution_count": null,
   "id": "ec2cd529",
   "metadata": {},
   "outputs": [],
   "source": [
    "LipsIdeal.__bases__"
   ]
  },
  {
   "cell_type": "markdown",
   "id": "8dcfe066",
   "metadata": {},
   "source": [
    "### Geometry of singular phase space"
   ]
  },
  {
   "cell_type": "code",
   "execution_count": null,
   "id": "cde2c4d9",
   "metadata": {},
   "outputs": [],
   "source": [
    "oPs = Particles(5, field=Field(\"padic\", 2 ** 31 - 1, 5))"
   ]
  },
  {
   "cell_type": "code",
   "execution_count": null,
   "id": "4e141b20",
   "metadata": {},
   "outputs": [],
   "source": [
    "J = LipsIdeal(5, (\"⟨4|1+5|4]\", \"⟨5|1+4|5]\", ))\n",
    "J"
   ]
  },
  {
   "cell_type": "markdown",
   "id": "89c6340c",
   "metadata": {},
   "source": [
    "The following line checks whether this ideal is prime (it isn't)"
   ]
  },
  {
   "cell_type": "code",
   "execution_count": null,
   "id": "95bb6a93",
   "metadata": {},
   "outputs": [],
   "source": [
    "J.test_primality(verbose=True)"
   ]
  },
  {
   "cell_type": "markdown",
   "id": "6f7337cc",
   "metadata": {},
   "source": [
    "We need the following 3 prime ideals"
   ]
  },
  {
   "cell_type": "code",
   "execution_count": null,
   "id": "b1565ca7",
   "metadata": {},
   "outputs": [],
   "source": [
    "K = LipsIdeal(5, (\"⟨14⟩\", \"⟨15⟩\", \"⟨45⟩\", \"[23]\"))\n",
    "L = LipsIdeal(5, (\"⟨12⟩\", \"⟨13⟩\", \"⟨14⟩\", \"⟨15⟩\", \"⟨23⟩\", \"⟨24⟩\", \"⟨25⟩\", \"⟨34⟩\", \"⟨35⟩\", \"⟨45⟩\"))\n",
    "M = LipsIdeal(5, (\"⟨4|1+5|4]\", \"⟨5|1+4|5]\", \"|1]⟨14⟩⟨15⟩+|4]⟨14⟩⟨45⟩-|5]⟨45⟩⟨15⟩\", \"|1⟩[14][15]+|4⟩[14][45]-|5⟩[45][15]\"))"
   ]
  },
  {
   "cell_type": "markdown",
   "id": "12478ca7",
   "metadata": {},
   "source": [
    "The following verifies they are indeed prime"
   ]
  },
  {
   "cell_type": "code",
   "execution_count": null,
   "id": "01c31fca",
   "metadata": {
    "scrolled": true
   },
   "outputs": [],
   "source": [
    "assert K.test_primality() and L.test_primality() and M.test_primality()"
   ]
  },
  {
   "cell_type": "markdown",
   "id": "fcebc234",
   "metadata": {},
   "source": [
    "\\& operator means intersection ($\\cap$), like for sets. The following checks that the ideal J is indeed an intersection of 5 prime ideals."
   ]
  },
  {
   "cell_type": "code",
   "execution_count": null,
   "id": "6962e997",
   "metadata": {},
   "outputs": [],
   "source": [
    "assert K & K(\"12345\", True) & L & L(\"12345\", True) & M == J"
   ]
  },
  {
   "cell_type": "markdown",
   "id": "40f109aa",
   "metadata": {},
   "source": [
    "In other words, the variety (= hyper-surface) V(J) is the union of V(K), V(K-bar), V(L), V(L-bar) and V(M)"
   ]
  },
  {
   "cell_type": "markdown",
   "id": "77c7cc51",
   "metadata": {},
   "source": [
    "### Phase-space points on irreducible varieties"
   ]
  },
  {
   "cell_type": "markdown",
   "id": "9bc981d6",
   "metadata": {},
   "source": [
    "We can now use this to find if a partial fraction decomposition is possible, using numerics only. <br>\n",
    "Normally, we have access to a \"black box function\" for the rational expression, and the common denominator."
   ]
  },
  {
   "cell_type": "code",
   "execution_count": null,
   "id": "5d2889c1",
   "metadata": {},
   "outputs": [],
   "source": [
    "black_box_function = \"(8/3s23⟨24⟩[34])/(⟨15⟩⟨34⟩⟨45⟩⟨4|1+5|4])+(8/3s23⟨25⟩[35])/(⟨14⟩⟨35⟩⟨54⟩⟨5|1+4|5])\"\n",
    "common_denominator = \"(⟨14⟩⟨15⟩⟨34⟩⟨35⟩⟨45⟩⟨4|1+5|4]⟨5|1+4|5])\""
   ]
  },
  {
   "cell_type": "code",
   "execution_count": null,
   "id": "78f72a68",
   "metadata": {},
   "outputs": [],
   "source": [
    "oPsK = Particles(5, field=Field(\"padic\", 2 ** 31 - 1, 3), seed=0)\n",
    "oPsK._singular_variety((\"⟨4|1+5|4]\", \"⟨5|1+4|5]\"), (1, 1), generators=K.generators)"
   ]
  },
  {
   "cell_type": "code",
   "execution_count": null,
   "id": "0d9697c6",
   "metadata": {},
   "outputs": [],
   "source": [
    "oPsK(black_box_function) * oPsK(common_denominator)  # rational * denominator is a proxy for the numerator polynomial"
   ]
  },
  {
   "cell_type": "code",
   "execution_count": null,
   "id": "7a8cfb89",
   "metadata": {},
   "outputs": [],
   "source": [
    "oPsKb = Particles(5, field=Field(\"padic\", 2 ** 31 - 1, 3), seed=0)\n",
    "oPsKb._singular_variety((\"⟨4|1+5|4]\", \"⟨5|1+4|5]\"), (1, 1), generators=K(\"12345\", True).generators)"
   ]
  },
  {
   "cell_type": "code",
   "execution_count": null,
   "id": "9dc6eccf",
   "metadata": {},
   "outputs": [],
   "source": [
    "oPsKb(black_box_function) * oPsKb(common_denominator)"
   ]
  },
  {
   "cell_type": "code",
   "execution_count": null,
   "id": "ed25c5ac",
   "metadata": {},
   "outputs": [],
   "source": [
    "oPsL = Particles(5, field=Field(\"padic\", 2 ** 31 - 1, 3), seed=0)\n",
    "oPsL._singular_variety((\"⟨4|1+5|4]\", \"⟨5|1+4|5]\"), (1, 1), generators=L.generators)"
   ]
  },
  {
   "cell_type": "code",
   "execution_count": null,
   "id": "6fb94c22",
   "metadata": {},
   "outputs": [],
   "source": [
    "oPsL(black_box_function) * oPsL(common_denominator)"
   ]
  },
  {
   "cell_type": "code",
   "execution_count": null,
   "id": "5c3f515a",
   "metadata": {},
   "outputs": [],
   "source": [
    "oPsLb = Particles(5, field=Field(\"padic\", 2 ** 31 - 1, 3), seed=0)\n",
    "oPsLb._singular_variety((\"⟨4|1+5|4]\", \"⟨5|1+4|5]\"), (1, 1), generators=L(\"12345\", True).generators)"
   ]
  },
  {
   "cell_type": "code",
   "execution_count": null,
   "id": "1ae08a1e",
   "metadata": {},
   "outputs": [],
   "source": [
    "oPsL(black_box_function) * oPsL(common_denominator)"
   ]
  },
  {
   "cell_type": "code",
   "execution_count": null,
   "id": "61edf746",
   "metadata": {},
   "outputs": [],
   "source": [
    "oPsM = Particles(5, field=Field(\"padic\", 2 ** 31 - 1, 3), seed=0)\n",
    "oPsM._singular_variety((\"⟨4|1+5|4]\", \"⟨5|1+4|5]\"), (1, 1), generators=M.generators)"
   ]
  },
  {
   "cell_type": "code",
   "execution_count": null,
   "id": "2913e1e2",
   "metadata": {},
   "outputs": [],
   "source": [
    "oPsM(black_box_function) * oPsM(common_denominator)"
   ]
  },
  {
   "cell_type": "markdown",
   "id": "b2803da3",
   "metadata": {},
   "source": [
    "Since in all cases the result is proportional to the prime, by [Hilbert's Nullstellensatz](https://en.wikipedia.org/wiki/Hilbert%27s_Nullstellensatz) (or the Zariski-Nagata theorem), we can partial fraction $⟨4|1+5|4]$ and $⟨5|1+4|5]$"
   ]
  },
  {
   "cell_type": "markdown",
   "id": "bbe0b180",
   "metadata": {},
   "source": [
    "This is one step to \"reconstruct\" the black box as a concise expression (or simplify previous results, like the expression in Mandelstams)"
   ]
  }
 ],
 "metadata": {
  "kernelspec": {
   "display_name": "Python 3",
   "language": "python",
   "name": "python3"
  },
  "language_info": {
   "codemirror_mode": {
    "name": "ipython",
    "version": 3
   },
   "file_extension": ".py",
   "mimetype": "text/x-python",
   "name": "python",
   "nbconvert_exporter": "python",
   "pygments_lexer": "ipython3",
   "version": "3.8.10"
  },
  "toc": {
   "base_numbering": 1,
   "nav_menu": {},
   "number_sections": true,
   "sideBar": true,
   "skip_h1_title": true,
   "title_cell": "Table of Contents",
   "title_sidebar": "Contents",
   "toc_cell": false,
   "toc_position": {},
   "toc_section_display": true,
   "toc_window_display": false
  }
 },
 "nbformat": 4,
 "nbformat_minor": 5
}
