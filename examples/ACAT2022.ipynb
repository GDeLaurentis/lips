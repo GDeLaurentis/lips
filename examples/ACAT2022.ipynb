{
 "cells": [
  {
   "cell_type": "markdown",
   "id": "7dacefa1",
   "metadata": {},
   "source": [
    "# Singular and $\\boldsymbol p$-adic phase space: a generator for theory computations\n",
    "### by Giuseppe De Laurentis $-$ Paul Scherrer Institute\n",
    "### [ACAT 2022 indico contribution](https://indico.cern.ch/event/1106990/contributions/4997241/)"
   ]
  },
  {
   "cell_type": "markdown",
   "id": "61325113",
   "metadata": {},
   "source": [
    "## Imports"
   ]
  },
  {
   "cell_type": "code",
   "execution_count": null,
   "id": "104b1a62",
   "metadata": {},
   "outputs": [],
   "source": [
    "from lips import Particles\n",
    "from lips.fields import Field"
   ]
  },
  {
   "cell_type": "markdown",
   "id": "9b707dfd",
   "metadata": {},
   "source": [
    "## Flash Overview"
   ]
  },
  {
   "cell_type": "markdown",
   "id": "d2b75a8c",
   "metadata": {},
   "source": [
    "$\\mathbb{C}$ phase space point with 300 digits; the field characteristic is zero."
   ]
  },
  {
   "cell_type": "code",
   "execution_count": null,
   "id": "70e74c6b",
   "metadata": {},
   "outputs": [],
   "source": [
    "oPs_complex = Particles(5, field=Field(\"mpc\", 0, 300), seed=0)"
   ]
  },
  {
   "cell_type": "code",
   "execution_count": null,
   "id": "f1fb15d0",
   "metadata": {},
   "outputs": [],
   "source": [
    "oPs_complex(\"s12\")"
   ]
  },
  {
   "cell_type": "markdown",
   "id": "2c4e252c",
   "metadata": {},
   "source": [
    "$\\mathbb{Q}[i]$ phase space point; the field representation is exact, so digits is ignored; the field characteristic is zero."
   ]
  },
  {
   "cell_type": "code",
   "execution_count": null,
   "id": "1d665f7b",
   "metadata": {},
   "outputs": [],
   "source": [
    "oPs_gaussian_rational = Particles(5, field=Field(\"gaussian rational\", 0, 0), seed=0)"
   ]
  },
  {
   "cell_type": "code",
   "execution_count": null,
   "id": "4038fb1d",
   "metadata": {},
   "outputs": [],
   "source": [
    "oPs_gaussian_rational(\"s12\")"
   ]
  },
  {
   "cell_type": "markdown",
   "id": "7b2d9ee1",
   "metadata": {},
   "source": [
    "$\\mathbb{F}_{2^{31} -1}$ phase space point; the field is exact, so digits is ignored; the field chracteristic is $2^{31} - 1$"
   ]
  },
  {
   "cell_type": "code",
   "execution_count": null,
   "id": "483647c4",
   "metadata": {},
   "outputs": [],
   "source": [
    "oPs_finite_field = Particles(5, field=Field(\"finite field\", 2 ** 31 - 1, 1), seed=0)"
   ]
  },
  {
   "cell_type": "code",
   "execution_count": null,
   "id": "bb622589",
   "metadata": {},
   "outputs": [],
   "source": [
    "oPs_finite_field(\"s12\")"
   ]
  },
  {
   "cell_type": "markdown",
   "id": "cd931fc4",
   "metadata": {},
   "source": [
    "$\\mathbb{Q}_{2^{31} -1}$ phase space point with 3 digits; "
   ]
  },
  {
   "cell_type": "code",
   "execution_count": null,
   "id": "c543dfbf",
   "metadata": {},
   "outputs": [],
   "source": [
    "oPs_padic = Particles(5, field=Field(\"padic\", 2 ** 31 - 1, 3), seed=0)"
   ]
  },
  {
   "cell_type": "code",
   "execution_count": null,
   "id": "3cc1554d",
   "metadata": {},
   "outputs": [],
   "source": [
    "oPs_padic(\"s12\")"
   ]
  },
  {
   "cell_type": "markdown",
   "id": "8692baed",
   "metadata": {},
   "source": [
    "## Example use case"
   ]
  },
  {
   "cell_type": "code",
   "execution_count": null,
   "id": "db9d9931",
   "metadata": {},
   "outputs": [],
   "source": [
    "mandelstam_expression = \"(1/(⟨14⟩^2⟨15⟩^2⟨23⟩^2))⟨12⟩^3⟨13⟩((4s23(-(s23s34+(s15-s34)s45)^3(s23s34+s45(s15+s34+s45))+s12^3(s15-s23)(s15^3s45+s23^2s34(-s23+s45)+s15^2s45(-s23+s45)+s15(s23^2s34-s23s45^2-s34s45^2))-s12^2(3s15^4s45^2+s15^3s45^2(-4s23-2s34+3s45)+s23s34^2(3s23^3-4s23^2s45+s45^3)+s15^2(-s23s45^2(s34+4s45)-s34s45^2(s34+5s45)+s23^2(s34^2+s45^2))+s15(-4s23^3s34^2+2s34^2s45^3+s23s34s45^2(s34+2s45)+s23^2s45(s34^2+s45^2)))+s12(3s15^4s45^3+s15^3s45^2(4s23s34-2s23s45-4s34s45+3s45^2)+s34^2(s23-s45)^2(3s23^2s34-s34s45^2+s23s45(s34+s45))-s15^2s45(s23^2s34(s34+s45)+s34s45^2(s34+7s45)+2s23s45(2s34^2-s34s45+s45^2))-s15s34(s23-s45)(2s23^2s34(s34-2s45)+s34s45^2(2s34+5s45)+s23s45(2s34^2+2s34s45+s45^2)))))/(3s12^3(s15-s23)s34(s12+s23-s45)s45(s15+s45)(-s12+s34+s45))+(4s23((s23s34+(s15-s34)s45)^2(s23s34+s45(s15+s34+s45))+s12^2(s23^2s34(s23-s45)+s15^3s45+s15^2s45(-s23+s45)-s15(s23^2s34+s23s45^2+s34s45^2))+s12(-2s15^3s45^2+s34^2(-2s23^3+2s23^2s45+s23s45^2-s45^3)+s15^2s45((s34-2s45)s45+s23(-s34+s45))+s15(s23^2s34(s34-s45)+s23s45^3+s34s45^2(s34+3s45))))(-tr5_1234))/(3s12^3(s15-s23)s34(s12+s23-s45)(s12-s34-s45)s45(s15+s45)))[31]\"\n",
    "spinor_expression = \"(8/3s23⟨24⟩[34])/(⟨15⟩⟨34⟩⟨45⟩⟨4|1+5|4])\""
   ]
  },
  {
   "cell_type": "code",
   "execution_count": null,
   "id": "7e2ae59d",
   "metadata": {},
   "outputs": [],
   "source": [
    "print(f\"String length: {len(spinor_expression) / len(mandelstam_expression) * 100:.2f}%\")"
   ]
  },
  {
   "cell_type": "code",
   "execution_count": null,
   "id": "227218f6",
   "metadata": {},
   "outputs": [],
   "source": [
    "oPs_padic(mandelstam_expression)"
   ]
  },
  {
   "cell_type": "code",
   "execution_count": null,
   "id": "83586cc3",
   "metadata": {},
   "outputs": [],
   "source": [
    "oPs_padic(spinor_expression) + oPs_padic.image((\"12354\", False))(spinor_expression)"
   ]
  },
  {
   "cell_type": "code",
   "execution_count": null,
   "id": "66a58df4",
   "metadata": {},
   "outputs": [],
   "source": [
    "assert oPs_padic(mandelstam_expression) == oPs_padic(spinor_expression) + oPs_padic.image((\"12354\", False))(spinor_expression)"
   ]
  },
  {
   "cell_type": "markdown",
   "id": "dde0bd5a",
   "metadata": {},
   "source": [
    "## Dependencies"
   ]
  },
  {
   "cell_type": "markdown",
   "id": "e00cb196",
   "metadata": {},
   "source": [
    "\"Standard\" packages:"
   ]
  },
  {
   "cell_type": "code",
   "execution_count": null,
   "id": "a28234d8",
   "metadata": {},
   "outputs": [],
   "source": [
    "import mpmath, numpy, sympy"
   ]
  },
  {
   "cell_type": "markdown",
   "id": "349fce4c",
   "metadata": {},
   "source": [
    "### pyAdic"
   ]
  },
  {
   "cell_type": "code",
   "execution_count": null,
   "id": "38484760",
   "metadata": {},
   "outputs": [],
   "source": [
    "import pyadic\n",
    "from pyadic import PAdic, ModP\n",
    "from pyadic.finite_field import finite_field_sqrt\n",
    "from pyadic.padic import padic_sqrt, padic_log\n",
    "from fractions import Fraction as Q"
   ]
  },
  {
   "cell_type": "code",
   "execution_count": null,
   "id": "5f596f9e",
   "metadata": {},
   "outputs": [],
   "source": [
    "ModP(Q(11, 13), 2 ** 31 - 1)"
   ]
  },
  {
   "cell_type": "code",
   "execution_count": null,
   "id": "df515f1f",
   "metadata": {},
   "outputs": [],
   "source": [
    "PAdic(Q(11, 13), 2 ** 31 - 1, 3)"
   ]
  },
  {
   "cell_type": "markdown",
   "id": "4b8723d3",
   "metadata": {},
   "source": [
    "by default I choose to keep track of the $\\mathbb{O}$ term,"
   ]
  },
  {
   "cell_type": "code",
   "execution_count": null,
   "id": "8f9d9936",
   "metadata": {},
   "outputs": [],
   "source": [
    "assert pyadic.padic.fixed_relative_precision is False"
   ]
  },
  {
   "cell_type": "code",
   "execution_count": null,
   "id": "e720703a",
   "metadata": {},
   "outputs": [],
   "source": [
    "PAdic(Q(11, 13), 2 ** 31 - 1, 3) - PAdic(Q(11, 13), 2 ** 31 - 1, 3)"
   ]
  },
  {
   "cell_type": "markdown",
   "id": "d639f712",
   "metadata": {},
   "source": [
    "it's also possible to emulate the usual floating point behavior (precision loss means \"random\" digits)"
   ]
  },
  {
   "cell_type": "code",
   "execution_count": null,
   "id": "c15f04b2",
   "metadata": {},
   "outputs": [],
   "source": [
    "pyadic.padic.fixed_relative_precision = True"
   ]
  },
  {
   "cell_type": "code",
   "execution_count": null,
   "id": "76c0f418",
   "metadata": {},
   "outputs": [],
   "source": [
    "PAdic(Q(11, 13), 2 ** 31 - 1, 3) - PAdic(Q(11, 13), 2 ** 31 - 1, 3)"
   ]
  },
  {
   "cell_type": "markdown",
   "id": "1dd90c50",
   "metadata": {},
   "source": [
    "let's reset it to the default"
   ]
  },
  {
   "cell_type": "code",
   "execution_count": null,
   "id": "7a986aa5",
   "metadata": {},
   "outputs": [],
   "source": [
    "pyadic.padic.fixed_relative_precision = False"
   ]
  },
  {
   "cell_type": "code",
   "execution_count": null,
   "id": "f8c74929",
   "metadata": {},
   "outputs": [],
   "source": [
    "padic_sqrt(PAdic(Q(9, 13), 2 ** 31 - 1, 3))"
   ]
  },
  {
   "cell_type": "code",
   "execution_count": null,
   "id": "0c5b95d1",
   "metadata": {},
   "outputs": [],
   "source": [
    "padic_sqrt(PAdic(Q(11, 13), 2 ** 31 - 1, 3))"
   ]
  },
  {
   "cell_type": "code",
   "execution_count": null,
   "id": "3ffdce89",
   "metadata": {},
   "outputs": [],
   "source": [
    "padic_log(PAdic(Q(11, 13), 2 ** 31 - 1, 3))"
   ]
  },
  {
   "cell_type": "markdown",
   "id": "e6607d9c",
   "metadata": {},
   "source": [
    "### syngular\n",
    "#### Interfaces to [Singular](https://www.singular.uni-kl.de/)"
   ]
  },
  {
   "cell_type": "code",
   "execution_count": null,
   "id": "a8e8084c",
   "metadata": {},
   "outputs": [],
   "source": [
    "from syngular import Ring, QuotientRing, Ideal"
   ]
  },
  {
   "cell_type": "code",
   "execution_count": null,
   "id": "7408fdf3",
   "metadata": {},
   "outputs": [],
   "source": [
    "# ideal over quotient ring\n",
    "ring = Ring('0', ('x1', 'x2'), 'dp')\n",
    "I = Ideal(ring, ['x1', 'x2'])\n",
    "J = Ideal(ring, ['x1'])\n",
    "qring = QuotientRing(ring, J)\n",
    "I.ring = qring"
   ]
  },
  {
   "cell_type": "markdown",
   "id": "d2d40fbd",
   "metadata": {},
   "source": [
    "## Lips"
   ]
  },
  {
   "cell_type": "code",
   "execution_count": null,
   "id": "f621cd3b",
   "metadata": {},
   "outputs": [],
   "source": [
    "lips.invariants.Invariants(6)"
   ]
  },
  {
   "cell_type": "markdown",
   "id": "f9d04b6d",
   "metadata": {},
   "source": [
    "$i \\not\\in \\mathbb{F}_{2147483647}$"
   ]
  },
  {
   "cell_type": "code",
   "execution_count": null,
   "id": "d6abb5be",
   "metadata": {},
   "outputs": [],
   "source": [
    "oPs = Particles(5, field=Field(\"finite field\", 2 ** 31 - 1, 1))"
   ]
  },
  {
   "cell_type": "code",
   "execution_count": null,
   "id": "51dfc124",
   "metadata": {},
   "outputs": [],
   "source": [
    "oPs[1].r2_sp"
   ]
  },
  {
   "cell_type": "code",
   "execution_count": null,
   "id": "da6d6a96",
   "metadata": {},
   "outputs": [],
   "source": [
    "oPs[1].four_mom  # for efficiency reasons this is set to None (instead of using FieldExtension)"
   ]
  },
  {
   "cell_type": "markdown",
   "id": "7db55580",
   "metadata": {},
   "source": [
    "$i \\in \\mathbb{F}_{2147483629}$"
   ]
  },
  {
   "cell_type": "code",
   "execution_count": null,
   "id": "7af8968d",
   "metadata": {},
   "outputs": [],
   "source": [
    "oPs = Particles(5, field=Field(\"finite field\", 2 ** 31 - 19, 1))"
   ]
  },
  {
   "cell_type": "code",
   "execution_count": null,
   "id": "6bdc4467",
   "metadata": {},
   "outputs": [],
   "source": [
    "oPs[1].r2_sp"
   ]
  },
  {
   "cell_type": "code",
   "execution_count": null,
   "id": "12451a8b",
   "metadata": {},
   "outputs": [],
   "source": [
    "oPs[1].four_mom"
   ]
  },
  {
   "cell_type": "code",
   "execution_count": null,
   "id": "aa43aae4",
   "metadata": {},
   "outputs": [],
   "source": [
    "oPs.masses"
   ]
  },
  {
   "cell_type": "code",
   "execution_count": null,
   "id": "ef7004dc",
   "metadata": {},
   "outputs": [],
   "source": [
    "lips.spinor_convention"
   ]
  },
  {
   "cell_type": "code",
   "execution_count": null,
   "id": "75e99cc6",
   "metadata": {},
   "outputs": [],
   "source": [
    "oPs = Particles(5, field=Field(\"padic\", 2 ** 31 - 1, 5))"
   ]
  },
  {
   "cell_type": "code",
   "execution_count": null,
   "id": "03a79358",
   "metadata": {},
   "outputs": [],
   "source": [
    "Particles.make_analytical_d"
   ]
  },
  {
   "cell_type": "code",
   "execution_count": null,
   "id": "8d5fce33",
   "metadata": {},
   "outputs": [],
   "source": [
    "oPs[\"|1>\"]"
   ]
  },
  {
   "cell_type": "code",
   "execution_count": null,
   "id": "012d58be",
   "metadata": {},
   "outputs": [],
   "source": [
    "oPs.total_mom"
   ]
  },
  {
   "cell_type": "markdown",
   "id": "741f22bc",
   "metadata": {},
   "source": [
    "## Partial fractions"
   ]
  },
  {
   "cell_type": "code",
   "execution_count": null,
   "id": "ee9e2956",
   "metadata": {},
   "outputs": [],
   "source": [
    "from lips.algebraic_geometry.covariant_ideal import LipsIdeal"
   ]
  },
  {
   "cell_type": "code",
   "execution_count": null,
   "id": "a78e41d4",
   "metadata": {},
   "outputs": [],
   "source": [
    "oPs = Particles(5, field=Field(\"padic\", 2 ** 31 - 1, 5))"
   ]
  },
  {
   "cell_type": "code",
   "execution_count": null,
   "id": "353517ef",
   "metadata": {},
   "outputs": [],
   "source": [
    "J = LipsIdeal(5, (\"⟨4|1+5|4]\", \"⟨5|1+4|5]\", ))\n",
    "J"
   ]
  },
  {
   "cell_type": "code",
   "execution_count": null,
   "id": "11999f9c",
   "metadata": {},
   "outputs": [],
   "source": [
    "J.primeTestDLP(verbose=True)"
   ]
  },
  {
   "cell_type": "code",
   "execution_count": null,
   "id": "bafeb98d",
   "metadata": {},
   "outputs": [],
   "source": [
    "K = LipsIdeal(5, (\"⟨14⟩\", \"⟨15⟩\", \"⟨45⟩\", \"[23]\"))\n",
    "L = LipsIdeal(5, (\"⟨12⟩\", \"⟨13⟩\", \"⟨14⟩\", \"⟨15⟩\", \"⟨23⟩\", \"⟨24⟩\", \"⟨25⟩\", \"⟨34⟩\", \"⟨35⟩\", \"⟨45⟩\"))\n",
    "M = LipsIdeal(5, (\"⟨4|1+5|4]\", \"⟨5|1+4|5]\", \"|1]⟨14⟩⟨15⟩+|4]⟨14⟩⟨45⟩-|5]⟨45⟩⟨15⟩\", \"|1⟩[14][15]+|4⟩[14][45]-|5⟩[45][15]\"))"
   ]
  },
  {
   "cell_type": "code",
   "execution_count": null,
   "id": "572c40f4",
   "metadata": {
    "scrolled": true
   },
   "outputs": [],
   "source": [
    "assert K.primeTestDLP() and L.primeTestDLP() and M.primeTestDLP()"
   ]
  },
  {
   "cell_type": "markdown",
   "id": "8395d711",
   "metadata": {},
   "source": [
    "\\& operator means intersection ($\\cap$), like for sets"
   ]
  },
  {
   "cell_type": "code",
   "execution_count": null,
   "id": "53a0b0de",
   "metadata": {},
   "outputs": [],
   "source": [
    "assert K & K(\"12345\", True) & L & L(\"12345\", True) & M == J"
   ]
  },
  {
   "cell_type": "code",
   "execution_count": null,
   "id": "cec282b8",
   "metadata": {},
   "outputs": [],
   "source": [
    "black_box_function = \"(8/3s23⟨24⟩[34])/(⟨15⟩⟨34⟩⟨45⟩⟨4|1+5|4])+(8/3s23⟨25⟩[35])/(⟨14⟩⟨35⟩⟨54⟩⟨5|1+4|5])\"\n",
    "common_denominator = \"(⟨14⟩⟨15⟩⟨34⟩⟨35⟩⟨45⟩⟨4|1+5|4]⟨5|1+4|5])\""
   ]
  },
  {
   "cell_type": "code",
   "execution_count": null,
   "id": "1ff7eef6",
   "metadata": {},
   "outputs": [],
   "source": [
    "oPsK = Particles(5, field=Field(\"padic\", 2 ** 31 - 1, 3), seed=0)\n",
    "oPsK._singular_variety((\"⟨4|1+5|4]\", \"⟨5|1+4|5]\"), (1, 1), generators=K.generators)"
   ]
  },
  {
   "cell_type": "code",
   "execution_count": null,
   "id": "a4f50775",
   "metadata": {},
   "outputs": [],
   "source": [
    "oPsK(black_box_function) * oPsK(common_denominator)"
   ]
  },
  {
   "cell_type": "code",
   "execution_count": null,
   "id": "bfb9e882",
   "metadata": {},
   "outputs": [],
   "source": [
    "oPsL = Particles(5, field=Field(\"padic\", 2 ** 31 - 1, 3), seed=0)\n",
    "oPsL._singular_variety((\"⟨4|1+5|4]\", \"⟨5|1+4|5]\"), (1, 1), generators=L.generators)"
   ]
  },
  {
   "cell_type": "code",
   "execution_count": null,
   "id": "1f346cd1",
   "metadata": {},
   "outputs": [],
   "source": [
    "oPsL(black_box_function) * oPsL(common_denominator)"
   ]
  },
  {
   "cell_type": "code",
   "execution_count": null,
   "id": "38e9a1c5",
   "metadata": {},
   "outputs": [],
   "source": [
    "oPsM = Particles(5, field=Field(\"padic\", 2 ** 31 - 1, 3), seed=0)\n",
    "oPsM._singular_variety((\"⟨4|1+5|4]\", \"⟨5|1+4|5]\"), (1, 1), generators=M.generators)"
   ]
  },
  {
   "cell_type": "code",
   "execution_count": null,
   "id": "e66ca4c5",
   "metadata": {},
   "outputs": [],
   "source": [
    "oPsM(black_box_function) * oPsM(common_denominator)"
   ]
  },
  {
   "cell_type": "markdown",
   "id": "0bce1081",
   "metadata": {},
   "source": [
    "## Beyond Partial fractions"
   ]
  },
  {
   "cell_type": "code",
   "execution_count": null,
   "id": "3362ddcf",
   "metadata": {},
   "outputs": [],
   "source": [
    "J = LipsIdeal(6, ('⟨1|3+4|2]', '⟨3|1+2|4]'))\n",
    "K = LipsIdeal(6, (\"⟨13⟩\", \"[24]\"))\n",
    "L = LipsIdeal(6, ('⟨1|3+4|2]', '⟨3|1+2|4]', '(s14-s23)'))"
   ]
  },
  {
   "cell_type": "code",
   "execution_count": null,
   "id": "3abe43eb",
   "metadata": {},
   "outputs": [],
   "source": [
    "J == K & L"
   ]
  },
  {
   "cell_type": "code",
   "execution_count": null,
   "id": "931cc99e",
   "metadata": {},
   "outputs": [],
   "source": [
    "black_box_function = '(s14-s23)/(⟨1|3+4|2]⟨3|1+2|4])'"
   ]
  },
  {
   "cell_type": "code",
   "execution_count": null,
   "id": "803c3264",
   "metadata": {},
   "outputs": [],
   "source": [
    "oPsK = Particles(6, field=Field(\"padic\", 2 ** 31 - 1, 3))\n",
    "oPsK._singular_variety(('⟨1|3+4|2]', '⟨3|1+2|4]'), (1, 1), generators=K.generators)"
   ]
  },
  {
   "cell_type": "code",
   "execution_count": null,
   "id": "c1916d06",
   "metadata": {},
   "outputs": [],
   "source": [
    "oPsL = Particles(6, field=Field(\"padic\", 2 ** 31 - 1, 3))\n",
    "oPsL._singular_variety(('⟨1|3+4|2]', '⟨3|1+2|4]'), (1, 1), generators=L.generators)"
   ]
  },
  {
   "cell_type": "code",
   "execution_count": null,
   "id": "b7221f2d",
   "metadata": {},
   "outputs": [],
   "source": [
    "oPsK(black_box_function)"
   ]
  },
  {
   "cell_type": "code",
   "execution_count": null,
   "id": "8c2b5784",
   "metadata": {},
   "outputs": [],
   "source": [
    "oPsL(black_box_function)"
   ]
  },
  {
   "cell_type": "code",
   "execution_count": null,
   "id": "c4aac457",
   "metadata": {},
   "outputs": [],
   "source": []
  }
 ],
 "metadata": {
  "kernelspec": {
   "display_name": "Python 3",
   "language": "python",
   "name": "python3"
  },
  "language_info": {
   "codemirror_mode": {
    "name": "ipython",
    "version": 3
   },
   "file_extension": ".py",
   "mimetype": "text/x-python",
   "name": "python",
   "nbconvert_exporter": "python",
   "pygments_lexer": "ipython3",
   "version": "3.8.10"
  }
 },
 "nbformat": 4,
 "nbformat_minor": 5
}
