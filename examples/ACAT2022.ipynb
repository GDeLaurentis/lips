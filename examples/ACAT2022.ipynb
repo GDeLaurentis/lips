{
 "cells": [
  {
   "cell_type": "markdown",
   "id": "5c26e4c9",
   "metadata": {},
   "source": [
    "# Singular and $\\boldsymbol p$-adic phase space: a generator for theory computations"
   ]
  },
  {
   "cell_type": "markdown",
   "id": "d6d49eb7",
   "metadata": {},
   "source": [
    "[indico contribution](https://indico.cern.ch/event/1106990/contributions/4997241/)"
   ]
  },
  {
   "cell_type": "code",
   "execution_count": null,
   "id": "96245bda",
   "metadata": {},
   "outputs": [],
   "source": [
    "# Imports\n",
    "from lips import Particles\n",
    "from lips.fields import Field"
   ]
  },
  {
   "cell_type": "markdown",
   "id": "b8153869",
   "metadata": {},
   "source": [
    "## Overview"
   ]
  },
  {
   "cell_type": "markdown",
   "id": "95d4eefe",
   "metadata": {},
   "source": [
    "$Q_{2^{31} -1}$ phase space point, with 3 digits"
   ]
  },
  {
   "cell_type": "code",
   "execution_count": null,
   "id": "93f2b7e2",
   "metadata": {},
   "outputs": [],
   "source": [
    "oPs_padic = Particles(5, field=Field(\"padic\", 2 ** 31 - 1, 3), seed=0)"
   ]
  },
  {
   "cell_type": "markdown",
   "id": "1732b380",
   "metadata": {},
   "source": [
    "## Example use case"
   ]
  },
  {
   "cell_type": "code",
   "execution_count": null,
   "id": "a0628711",
   "metadata": {},
   "outputs": [],
   "source": [
    "mandelstam_expression = \"(1/(⟨14⟩^2⟨15⟩^2⟨23⟩^2))⟨12⟩^3⟨13⟩((4s23(-(s23s34+(s15-s34)s45)^3(s23s34+s45(s15+s34+s45))+s12^3(s15-s23)(s15^3s45+s23^2s34(-s23+s45)+s15^2s45(-s23+s45)+s15(s23^2s34-s23s45^2-s34s45^2))-s12^2(3s15^4s45^2+s15^3s45^2(-4s23-2s34+3s45)+s23s34^2(3s23^3-4s23^2s45+s45^3)+s15^2(-s23s45^2(s34+4s45)-s34s45^2(s34+5s45)+s23^2(s34^2+s45^2))+s15(-4s23^3s34^2+2s34^2s45^3+s23s34s45^2(s34+2s45)+s23^2s45(s34^2+s45^2)))+s12(3s15^4s45^3+s15^3s45^2(4s23s34-2s23s45-4s34s45+3s45^2)+s34^2(s23-s45)^2(3s23^2s34-s34s45^2+s23s45(s34+s45))-s15^2s45(s23^2s34(s34+s45)+s34s45^2(s34+7s45)+2s23s45(2s34^2-s34s45+s45^2))-s15s34(s23-s45)(2s23^2s34(s34-2s45)+s34s45^2(2s34+5s45)+s23s45(2s34^2+2s34s45+s45^2)))))/(3s12^3(s15-s23)s34(s12+s23-s45)s45(s15+s45)(-s12+s34+s45))+(4s23((s23s34+(s15-s34)s45)^2(s23s34+s45(s15+s34+s45))+s12^2(s23^2s34(s23-s45)+s15^3s45+s15^2s45(-s23+s45)-s15(s23^2s34+s23s45^2+s34s45^2))+s12(-2s15^3s45^2+s34^2(-2s23^3+2s23^2s45+s23s45^2-s45^3)+s15^2s45((s34-2s45)s45+s23(-s34+s45))+s15(s23^2s34(s34-s45)+s23s45^3+s34s45^2(s34+3s45))))(-tr5_1234))/(3s12^3(s15-s23)s34(s12+s23-s45)(s12-s34-s45)s45(s15+s45)))[31]\""
   ]
  },
  {
   "cell_type": "code",
   "execution_count": null,
   "id": "0d74ab34",
   "metadata": {},
   "outputs": [],
   "source": [
    "spinor_expression = \"(8/3⟨23⟩[23]⟨24⟩[34])/(⟨15⟩⟨34⟩⟨45⟩⟨4|1+5|4])\""
   ]
  },
  {
   "cell_type": "code",
   "execution_count": null,
   "id": "985180a4",
   "metadata": {},
   "outputs": [],
   "source": [
    "len(spinor_expression) / len(mandelstam_expression) * 100"
   ]
  },
  {
   "cell_type": "code",
   "execution_count": null,
   "id": "c2d67071",
   "metadata": {},
   "outputs": [],
   "source": [
    "-oPs_padic(mandelstam_expression)"
   ]
  },
  {
   "cell_type": "code",
   "execution_count": null,
   "id": "6fb7ace2",
   "metadata": {},
   "outputs": [],
   "source": [
    "oPs_padic(spinor_expression) + oPs_padic.image((\"12354\", False))(spinor_expression)"
   ]
  },
  {
   "cell_type": "code",
   "execution_count": null,
   "id": "0012f194",
   "metadata": {},
   "outputs": [],
   "source": [
    "assert -oPs_padic(mandelstam_expression) == oPs_padic(spinor_expression) + oPs_padic.image((\"12354\", False))(spinor_expression)"
   ]
  }
 ],
 "metadata": {
  "kernelspec": {
   "display_name": "Python 3",
   "language": "python",
   "name": "python3"
  },
  "language_info": {
   "codemirror_mode": {
    "name": "ipython",
    "version": 3
   },
   "file_extension": ".py",
   "mimetype": "text/x-python",
   "name": "python",
   "nbconvert_exporter": "python",
   "pygments_lexer": "ipython3",
   "version": "3.8.10"
  }
 },
 "nbformat": 4,
 "nbformat_minor": 5
}
