{
 "cells": [
  {
   "cell_type": "markdown",
   "metadata": {},
   "source": [
    "## Toy Example"
   ]
  },
  {
   "cell_type": "code",
   "execution_count": null,
   "metadata": {},
   "outputs": [],
   "source": [
    "R.<x0> = PolynomialRing(QQ)\n",
    "R"
   ]
  },
  {
   "cell_type": "code",
   "execution_count": null,
   "metadata": {},
   "outputs": [],
   "source": [
    "F = R.fraction_field()\n",
    "F"
   ]
  },
  {
   "cell_type": "code",
   "execution_count": null,
   "metadata": {},
   "outputs": [],
   "source": [
    "S.<x,y> = PolynomialRing(F, order='lex')\n",
    "S"
   ]
  },
  {
   "cell_type": "code",
   "execution_count": null,
   "metadata": {},
   "outputs": [],
   "source": [
    "I = S.ideal(x**2 + y**2 - x0**2, x + y - x0)\n",
    "I"
   ]
  },
  {
   "cell_type": "code",
   "execution_count": null,
   "metadata": {},
   "outputs": [],
   "source": [
    "I.variety()"
   ]
  },
  {
   "cell_type": "markdown",
   "metadata": {},
   "source": [
    "## Real Life"
   ]
  },
  {
   "cell_type": "markdown",
   "metadata": {},
   "source": [
    "### analytical lips set up"
   ]
  },
  {
   "cell_type": "code",
   "execution_count": null,
   "metadata": {},
   "outputs": [],
   "source": [
    "import sympy\n",
    "import numpy\n",
    "\n",
    "from lips import Particles\n",
    "from lips.tools import flatten"
   ]
  },
  {
   "cell_type": "code",
   "execution_count": null,
   "metadata": {},
   "outputs": [],
   "source": [
    "oParticles = Particles(int(6))"
   ]
  },
  {
   "cell_type": "code",
   "execution_count": null,
   "metadata": {
    "code_folding": [
     0
    ]
   },
   "outputs": [],
   "source": [
    "def make_analytical_d(oParticles):\n",
    "    la = sympy.symbols('a1:{}'.format(len(oParticles) + 1))\n",
    "    lb = sympy.symbols('b1:{}'.format(len(oParticles) + 1))\n",
    "    lc = sympy.symbols('c1:{}'.format(len(oParticles) + 1))\n",
    "    ld = sympy.symbols('d1:{}'.format(len(oParticles) + 1))\n",
    "    for i, oParticle in enumerate(oParticles):\n",
    "        oParticle._r_sp_d = numpy.array([[la[i]], [lb[i]]])\n",
    "        oParticle._l_sp_d = numpy.array([[lc[i], ld[i]]])\n",
    "        oParticle._r_sp_d_to_r_sp_u()\n",
    "        oParticle._l_sp_d_to_l_sp_u()\n",
    "        oParticle._r1_sp_to_r2_sp()\n",
    "        oParticle._r1_sp_to_r2_sp_b()\n",
    "        oParticle._r2_sp_b_to_four_momentum()"
   ]
  },
  {
   "cell_type": "code",
   "execution_count": null,
   "metadata": {
    "code_folding": [
     0
    ]
   },
   "outputs": [],
   "source": [
    "def make_analytical_u(oParticles):\n",
    "    la = sympy.symbols('a1:{}'.format(len(oParticles) + 1))\n",
    "    lb = sympy.symbols('b1:{}'.format(len(oParticles) + 1))\n",
    "    lc = sympy.symbols('c1:{}'.format(len(oParticles) + 1))\n",
    "    ld = sympy.symbols('d1:{}'.format(len(oParticles) + 1))\n",
    "    for i, oParticle in enumerate(oParticles):\n",
    "        oParticle._r_sp_u = numpy.array([[la[i], lb[i]]])\n",
    "        oParticle._l_sp_u = numpy.array([[lc[i]], [ld[i]]])\n",
    "        oParticle._r_sp_u_to_r_sp_d()\n",
    "        oParticle._l_sp_u_to_l_sp_d()\n",
    "        oParticle._r1_sp_to_r2_sp()\n",
    "        oParticle._r1_sp_to_r2_sp_b()\n",
    "        oParticle._r2_sp_b_to_four_momentum()"
   ]
  },
  {
   "cell_type": "code",
   "execution_count": null,
   "metadata": {
    "code_folding": [
     0
    ]
   },
   "outputs": [],
   "source": [
    "def make_analytical_p(oParticles):\n",
    "    lp0 = sympy.symbols('p0_0:{}'.format(len(oParticles) + 1))\n",
    "    lp1 = sympy.symbols('p1_0:{}'.format(len(oParticles) + 1))\n",
    "    lp2 = sympy.symbols('p2_0:{}'.format(len(oParticles) + 1))\n",
    "    lp3 = sympy.symbols('p3_0:{}'.format(len(oParticles) + 1))\n",
    "    for i, oParticle in enumerate(oParticles):\n",
    "        oParticle._four_mom = numpy.array([lp0[i], lp1[i], lp2[i], lp3[i]])"
   ]
  },
  {
   "cell_type": "code",
   "execution_count": null,
   "metadata": {},
   "outputs": [],
   "source": [
    "make_analytical_d(oParticles)"
   ]
  },
  {
   "cell_type": "code",
   "execution_count": null,
   "metadata": {},
   "outputs": [],
   "source": [
    "la = sympy.symbols('a1:{}'.format(len(oParticles) + 1))\n",
    "lb = sympy.symbols('b1:{}'.format(len(oParticles) + 1))\n",
    "lc = sympy.symbols('c1:{}'.format(len(oParticles) + 1))\n",
    "ld = sympy.symbols('d1:{}'.format(len(oParticles) + 1))\n",
    "x, y = sympy.symbols('x, y')\n",
    "relations = []\n",
    "for i in range(len(oParticles)):\n",
    "    relations += [\"oParticles[{}].r_sp_d = numpy.array([[{}], [{}]])\".format(i + 1, la[i], lb[i])]\n",
    "    relations += [\"oParticles[{}].l_sp_d = numpy.array([[{}, {}]])\".format(i + 1, lc[i], ld[i])]\n",
    "inverse_relations = []\n",
    "for i in range(len(oParticles)):\n",
    "    inverse_relations += [\"{}, {} = oParticles[{}].r_sp_d[0, 0], oParticles[{}].r_sp_d[1, 0]\".format(la[i], lb[i], i + 1, i + 1)]\n",
    "    inverse_relations += [\"{}, {} = oParticles[{}].l_sp_d[0, 0], oParticles[{}].l_sp_d[0, 1]\".format(lc[i], ld[i], i + 1, i + 1)]"
   ]
  },
  {
   "cell_type": "code",
   "execution_count": null,
   "metadata": {},
   "outputs": [],
   "source": [
    "for relation in relations:\n",
    "    print(relation)"
   ]
  },
  {
   "cell_type": "code",
   "execution_count": null,
   "metadata": {},
   "outputs": [],
   "source": [
    "for inverse_relation in inverse_relations:\n",
    "    print(inverse_relation)"
   ]
  },
  {
   "cell_type": "code",
   "execution_count": null,
   "metadata": {},
   "outputs": [],
   "source": [
    "flatten(oParticles.total_mom)"
   ]
  },
  {
   "cell_type": "code",
   "execution_count": null,
   "metadata": {},
   "outputs": [],
   "source": [
    "print(oParticles.compute(\"⟨1|2⟩\"))"
   ]
  },
  {
   "cell_type": "code",
   "execution_count": null,
   "metadata": {},
   "outputs": [],
   "source": [
    "print(oParticles.compute(\"⟨2|3⟩\"))"
   ]
  },
  {
   "cell_type": "markdown",
   "metadata": {},
   "source": [
    "### Sympy doesn't have things implemented :\\"
   ]
  },
  {
   "cell_type": "code",
   "execution_count": null,
   "metadata": {},
   "outputs": [],
   "source": [
    "R = sympy.QQ.old_poly_ring(*flatten(zip(la, lb, lc, ld), treat_tuples_as_lists=True))\n",
    "R"
   ]
  },
  {
   "cell_type": "code",
   "execution_count": null,
   "metadata": {},
   "outputs": [],
   "source": [
    "I = R.ideal(*flatten(oParticles.total_mom))\n",
    "I"
   ]
  },
  {
   "cell_type": "code",
   "execution_count": null,
   "metadata": {},
   "outputs": [],
   "source": [
    "I.is_primary()"
   ]
  },
  {
   "cell_type": "markdown",
   "metadata": {},
   "source": [
    "## Sage"
   ]
  },
  {
   "cell_type": "code",
   "execution_count": null,
   "metadata": {},
   "outputs": [],
   "source": [
    "all_symbols = list(map(var, flatten(zip(la, lb, lc, ld), treat_tuples_as_lists=True)))"
   ]
  },
  {
   "cell_type": "code",
   "execution_count": null,
   "metadata": {},
   "outputs": [],
   "source": [
    "print(all_symbols)"
   ]
  },
  {
   "cell_type": "code",
   "execution_count": null,
   "metadata": {},
   "outputs": [],
   "source": [
    "R = PolynomialRing(QQ, [c1, d1, c2, d2, a3, b3, c3, d3, a4, b4, c4, d4, a5, b5, c5, d5, a6, b6, c6, d6])\n",
    "R"
   ]
  },
  {
   "cell_type": "code",
   "execution_count": null,
   "metadata": {},
   "outputs": [],
   "source": [
    "F = R.fraction_field()\n",
    "F"
   ]
  },
  {
   "cell_type": "code",
   "execution_count": null,
   "metadata": {},
   "outputs": [],
   "source": [
    "S = PolynomialRing(F, [a1, b1, a2, b2], order='lex')\n",
    "S"
   ]
  },
  {
   "cell_type": "code",
   "execution_count": null,
   "metadata": {},
   "outputs": [],
   "source": [
    "print(flatten(oParticles.total_mom))"
   ]
  },
  {
   "cell_type": "code",
   "execution_count": null,
   "metadata": {},
   "outputs": [],
   "source": [
    "I = S.ideal([b1*d1 + b2*d2 + b3*d3 + b4*d4 + b5*d5 + b6*d6, -a1*d1 - a2*d2 - a3*d3 - a4*d4 - a5*d5 - a6*d6, -b1*c1 - b2*c2 - b3*c3 - b4*c4 - b5*c5 - b6*c6, a1*c1 + a2*c2 + a3*c3 + a4*c4 + a5*c5 + a6*c6])"
   ]
  },
  {
   "cell_type": "code",
   "execution_count": null,
   "metadata": {},
   "outputs": [],
   "source": [
    "I"
   ]
  },
  {
   "cell_type": "code",
   "execution_count": null,
   "metadata": {},
   "outputs": [],
   "source": [
    "I.dimension()"
   ]
  },
  {
   "cell_type": "code",
   "execution_count": null,
   "metadata": {},
   "outputs": [],
   "source": [
    "I.variety()"
   ]
  },
  {
   "cell_type": "markdown",
   "metadata": {},
   "source": [
    "### Doubly Singular Limit"
   ]
  },
  {
   "cell_type": "code",
   "execution_count": null,
   "metadata": {},
   "outputs": [],
   "source": [
    "R = PolynomialRing(QQ, [c1, d1, c2, d2, c3, d3, a4, b4, c4, d4, a5, b5, c5, d5, a6, b6, c6, d6, x, y])\n",
    "R"
   ]
  },
  {
   "cell_type": "code",
   "execution_count": null,
   "metadata": {},
   "outputs": [],
   "source": [
    "F = R.fraction_field()\n",
    "F"
   ]
  },
  {
   "cell_type": "code",
   "execution_count": null,
   "metadata": {},
   "outputs": [],
   "source": [
    "S = PolynomialRing(F, [a1, b1, a2, b2, a3, b3, ], order='lex')\n",
    "S"
   ]
  },
  {
   "cell_type": "code",
   "execution_count": null,
   "metadata": {},
   "outputs": [],
   "source": [
    "print(flatten(oParticles.total_mom) + [oParticles.compute(\"⟨1|2⟩\") - x] + [oParticles.compute(\"⟨2|3⟩\") - y])"
   ]
  },
  {
   "cell_type": "code",
   "execution_count": null,
   "metadata": {},
   "outputs": [],
   "source": [
    "I = S.ideal([b1*d1 + b2*d2 + b3*d3 + b4*d4 + b5*d5 + b6*d6, \n",
    "             -a1*d1 - a2*d2 - a3*d3 - a4*d4 - a5*d5 - a6*d6, \n",
    "             -b1*c1 - b2*c2 - b3*c3 - b4*c4 - b5*c5 - b6*c6, \n",
    "             a1*c1 + a2*c2 + a3*c3 + a4*c4 + a5*c5 + a6*c6, \n",
    "             -a1*b2 + a2*b1 - x,\n",
    "             -a2*b3 + a3*b2 - y])\n",
    "I"
   ]
  },
  {
   "cell_type": "code",
   "execution_count": null,
   "metadata": {},
   "outputs": [],
   "source": [
    "I.dimension()"
   ]
  },
  {
   "cell_type": "code",
   "execution_count": null,
   "metadata": {
    "scrolled": true
   },
   "outputs": [],
   "source": [
    "V = I.variety()\n",
    "V"
   ]
  },
  {
   "cell_type": "code",
   "execution_count": null,
   "metadata": {
    "scrolled": true
   },
   "outputs": [],
   "source": [
    "V"
   ]
  }
 ],
 "metadata": {
  "kernelspec": {
   "display_name": "SageMath 9.1",
   "language": "sage",
   "name": "sagemath"
  },
  "language_info": {
   "codemirror_mode": {
    "name": "ipython",
    "version": 3
   },
   "file_extension": ".py",
   "mimetype": "text/x-python",
   "name": "python",
   "nbconvert_exporter": "python",
   "pygments_lexer": "ipython3",
   "version": "3.7.3"
  }
 },
 "nbformat": 4,
 "nbformat_minor": 2
}
