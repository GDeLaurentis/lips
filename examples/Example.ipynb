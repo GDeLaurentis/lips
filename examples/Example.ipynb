{
 "cells": [
  {
   "cell_type": "code",
   "execution_count": null,
   "metadata": {},
   "outputs": [],
   "source": [
    "# imports / initialisations\n",
    "\n",
    "from __future__ import absolute_import\n",
    "from __future__ import division\n",
    "from __future__ import print_function\n",
    "from __future__ import unicode_literals\n",
    "\n",
    "from fractions import Fraction\n",
    "\n",
    "from lips import Particles\n",
    "from lips.gaussian_rationals import GaussianRational"
   ]
  },
  {
   "cell_type": "code",
   "execution_count": null,
   "metadata": {},
   "outputs": [],
   "source": [
    "oParticles = Particles(6, dtype=\"gaussian rational\")"
   ]
  },
  {
   "cell_type": "code",
   "execution_count": null,
   "metadata": {},
   "outputs": [],
   "source": [
    "oParticles[1].four_mom  # four-momentum (index up)"
   ]
  },
  {
   "cell_type": "code",
   "execution_count": null,
   "metadata": {},
   "outputs": [],
   "source": [
    "oParticles[1].four_mom_d  # four-momentum (index down)"
   ]
  },
  {
   "cell_type": "code",
   "execution_count": null,
   "metadata": {},
   "outputs": [],
   "source": [
    "oParticles[1].r_sp_u  # right-handed spinor (index up)"
   ]
  },
  {
   "cell_type": "code",
   "execution_count": null,
   "metadata": {},
   "outputs": [],
   "source": [
    "oParticles[1].r_sp_d  # right-handed spinor (index down)"
   ]
  },
  {
   "cell_type": "code",
   "execution_count": null,
   "metadata": {},
   "outputs": [],
   "source": [
    "oParticles[1].l_sp_u  # left-handed spinor (index up)"
   ]
  },
  {
   "cell_type": "code",
   "execution_count": null,
   "metadata": {},
   "outputs": [],
   "source": [
    "oParticles.total_mom  # momentum conservation"
   ]
  },
  {
   "cell_type": "code",
   "execution_count": null,
   "metadata": {},
   "outputs": [],
   "source": [
    "for i in range(len(oParticles)):   # on-shell-ness\n",
    "    print(oParticles.ldot(i + 1, i + 1))"
   ]
  },
  {
   "cell_type": "code",
   "execution_count": null,
   "metadata": {},
   "outputs": [],
   "source": [
    "GaussianRational(Fraction(1, 100000074553), Fraction(0, 982451653))"
   ]
  },
  {
   "cell_type": "code",
   "execution_count": null,
   "metadata": {},
   "outputs": [],
   "source": [
    "oParticles.set(\"s_234\", GaussianRational(Fraction(1, 100000074553), Fraction(0, 982451653)))"
   ]
  },
  {
   "cell_type": "code",
   "execution_count": null,
   "metadata": {},
   "outputs": [],
   "source": [
    "oParticles.compute(\"s_234\")"
   ]
  },
  {
   "cell_type": "code",
   "execution_count": null,
   "metadata": {},
   "outputs": [],
   "source": [
    "# some definitions\n",
    "zab2_4231 = oParticles.compute(\"⟨4|(2+3)|1]\")\n",
    "zb_16 = oParticles.compute(\"[1|6]\")\n",
    "za_23 = oParticles.compute(\"⟨2|3⟩\")\n",
    "za_34 = oParticles.compute(\"⟨3|4⟩\")\n",
    "zb_56 = oParticles.compute(\"[5|6]\")\n",
    "zab2_2165 = oParticles.compute(\"⟨2|(1+6)|5]\")\n",
    "s_234 = oParticles.compute(\"s_234\")\n",
    "zab2_6123 = oParticles.compute(\"⟨6|(1+2)|3]\")\n",
    "za_12 = oParticles.compute(\"⟨1|2⟩\")\n",
    "za_16 = oParticles.compute(\"⟨1|6⟩\")\n",
    "zb_34 = oParticles.compute(\"[3|4]\")\n",
    "zb_45 = oParticles.compute(\"[4|5]\")\n",
    "s_345 = oParticles.compute(\"s_345\")"
   ]
  },
  {
   "cell_type": "markdown",
   "metadata": {},
   "source": [
    "<font size=\"14\"> $ A_{6g}^{+++---} = \\frac{+I⟨4|(2+3)|1]³}{[1|6]⟨2|3⟩⟨3|4⟩[5|6]⟨2|(1+6)|5]s_{234}} + \\frac{-I⟨6|(1+2)|3]³}{⟨1|2⟩⟨1|6⟩[3|4][4|5]⟨2|(1+6)|5]s_{345}} $ </font>"
   ]
  },
  {
   "cell_type": "code",
   "execution_count": null,
   "metadata": {},
   "outputs": [],
   "source": [
    "A6g_pppmmm = 1j * zab2_4231 ** 3 / (zb_16 * za_23 * za_34 * zb_56 * zab2_2165 * s_234) - 1j * zab2_6123 ** 3 / (za_12 * za_16 * zb_34 * zb_45 * zab2_2165 * s_345)"
   ]
  },
  {
   "cell_type": "code",
   "execution_count": null,
   "metadata": {},
   "outputs": [],
   "source": [
    "A6g_pppmmm"
   ]
  },
  {
   "cell_type": "code",
   "execution_count": null,
   "metadata": {},
   "outputs": [],
   "source": [
    "complex(A6g_pppmmm)"
   ]
  }
 ],
 "metadata": {
  "kernelspec": {
   "display_name": "Python 2",
   "language": "python",
   "name": "python2"
  },
  "language_info": {
   "codemirror_mode": {
    "name": "ipython",
    "version": 2
   },
   "file_extension": ".py",
   "mimetype": "text/x-python",
   "name": "python",
   "nbconvert_exporter": "python",
   "pygments_lexer": "ipython2",
   "version": "2.7.12"
  }
 },
 "nbformat": 4,
 "nbformat_minor": 2
}
