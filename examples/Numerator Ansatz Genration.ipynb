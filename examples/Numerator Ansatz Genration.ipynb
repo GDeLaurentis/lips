{
 "cells": [
  {
   "cell_type": "markdown",
   "metadata": {},
   "source": [
    "# Ansatz Generation - Method by Ben / 1205.5707"
   ]
  },
  {
   "cell_type": "code",
   "execution_count": null,
   "metadata": {},
   "outputs": [],
   "source": [
    "from __future__ import unicode_literals\n",
    "from __future__ import print_function\n",
    "from __future__ import division\n",
    "\n",
    "import itertools\n",
    "import re"
   ]
  },
  {
   "cell_type": "code",
   "execution_count": null,
   "metadata": {},
   "outputs": [],
   "source": [
    "multiplicity = 5"
   ]
  },
  {
   "cell_type": "markdown",
   "metadata": {},
   "source": [
    "all spinor brackets"
   ]
  },
  {
   "cell_type": "code",
   "execution_count": null,
   "metadata": {},
   "outputs": [],
   "source": [
    "indices = list(range(1, multiplicity + 1))\n",
    "pairs = list(itertools.combinations(indices, 2))\n",
    "spas = [\"⟨{}|{}⟩\".format(*pair) for pair in pairs]\n",
    "spbs = [\"[{}|{}]\".format(*pair) for pair in pairs]\n",
    "sps = spas + spbs"
   ]
  },
  {
   "cell_type": "code",
   "execution_count": null,
   "metadata": {},
   "outputs": [],
   "source": [
    "print(sps)"
   ]
  },
  {
   "cell_type": "markdown",
   "metadata": {},
   "source": [
    "all schouten identities: ⟨ij⟩⟨kl⟩-⟨ik⟩⟨jl⟩+⟨il⟩⟨jk⟩=0"
   ]
  },
  {
   "cell_type": "code",
   "execution_count": null,
   "metadata": {},
   "outputs": [],
   "source": [
    "quadruplets = list(itertools.combinations(indices, 4))\n",
    "spas_schoutens = [\"⟨{i}|{j}⟩⟨{k}|{l}⟩-⟨{i}|{k}⟩⟨{j}|{l}⟩+⟨{i}|{l}⟩⟨{j}|{k}⟩\".format(**dict(zip(('i', 'j', 'k', 'l'), quadruplet))) for quadruplet in quadruplets]\n",
    "spbs_schoutens = [\"[{i}|{j}][{k}|{l}]-[{i}|{k}][{j}|{l}]+[{i}|{l}][{j}|{k}]\".format(**dict(zip(('i', 'j', 'k', 'l'), quadruplet))) for quadruplet in quadruplets]\n",
    "schoutens = spas_schoutens + spbs_schoutens\n",
    "print(schoutens)"
   ]
  },
  {
   "cell_type": "code",
   "execution_count": null,
   "metadata": {},
   "outputs": [],
   "source": [
    "len(schoutens)"
   ]
  },
  {
   "cell_type": "markdown",
   "metadata": {},
   "source": [
    "all momentum conservation identities \\Sum_i ⟨ji⟩[ik]"
   ]
  },
  {
   "cell_type": "code",
   "execution_count": null,
   "metadata": {},
   "outputs": [],
   "source": [
    "mom_cons = []\n",
    "for j in indices:\n",
    "    for k in indices:\n",
    "        mom_cons += [\"\".join([\"+⟨{j}|{i}⟩[{i}|{k}]\".format(i=i, j=j, k=k) if i not in (j, k) and j < i and i < k else\n",
    "                              \"-⟨{i}|{j}⟩[{i}|{k}]\".format(i=i, j=j, k=k) if i not in (j, k) and i < j and i < k else\n",
    "                              \"+⟨{i}|{j}⟩[{k}|{i}]\".format(i=i, j=j, k=k) if i not in (j, k) and i < j and k < i else\n",
    "                              \"-⟨{j}|{i}⟩[{k}|{i}]\".format(i=i, j=j, k=k) if i not in (j, k) and j < i and k < i else\n",
    "                              '' for i in indices])]\n",
    "mom_cons = [mom_con if mom_con[0] != \"+\" else mom_con[1:] for mom_con in mom_cons]\n",
    "print(mom_cons)"
   ]
  },
  {
   "cell_type": "code",
   "execution_count": null,
   "metadata": {},
   "outputs": [],
   "source": [
    "len(mom_cons)"
   ]
  },
  {
   "cell_type": "markdown",
   "metadata": {},
   "source": [
    "Sanity check"
   ]
  },
  {
   "cell_type": "code",
   "execution_count": null,
   "metadata": {},
   "outputs": [],
   "source": [
    "import numpy\n",
    "\n",
    "from lips import Particles\n",
    "\n",
    "pA2 = re.compile(r'(?:\\u27e8)(\\d+)(?:\\|)(\\d+)(?:\\u27e9)')\n",
    "pA2bis = re.compile(r'(?:(?:\\u27e8)(\\d)(\\d)(?:\\u27e9))')\n",
    "pS2 = re.compile(r'(?:\\[)(\\d+)(?:\\|)(\\d+)(?:\\])')\n",
    "pS2bis = re.compile(r'(?:\\[)(\\d)(\\d)(?:\\])')\n",
    "pSijk = re.compile(r'(?:s_|S_)(\\d+)')\n",
    "pOijk = re.compile(r'(?:Ω_)(\\d+)')\n",
    "pPijk = re.compile(r'(?:Π_)(\\d+)')\n",
    "p3B = re.compile(r'(?:\\u27e8|\\[)(\\d+)(?:\\|\\({0,1})([\\d+[\\+|-]*]*)(?:\\){0,1}\\|)(\\d+)(?:\\u27e9|\\])')\n",
    "\n",
    "def parse(string):\n",
    "    string = string.replace(\"^\", \"**\")\n",
    "    string = pA2bis.sub(r\"⟨\\1|\\2⟩\", string)\n",
    "    string = pA2.sub(r\"oParticles.compute('⟨\\1|\\2⟩')\", string)\n",
    "    string = pS2bis.sub(r\"[\\1|\\2]\", string)\n",
    "    string = pS2.sub(r\"oParticles.compute('[\\1|\\2]')\", string)\n",
    "    string = pSijk.sub(r\"oParticles.compute('s_\\1')\", string)\n",
    "    string = pOijk.sub(r\"oParticles.compute('Ω_\\1')\", string)\n",
    "    string = pPijk.sub(r\"oParticles.compute('Π_\\1')\", string)\n",
    "    string = p3B.sub(r\"oParticles.compute('⟨\\1|(\\2)|\\3]')\", string)\n",
    "    string = re.sub(r'(\\d)o', r'\\1*o', string)\n",
    "    string = string.replace(')o', ')*o')\n",
    "    return string"
   ]
  },
  {
   "cell_type": "code",
   "execution_count": null,
   "metadata": {},
   "outputs": [],
   "source": [
    "oParticles = Particles(int(multiplicity))"
   ]
  },
  {
   "cell_type": "code",
   "execution_count": null,
   "metadata": {},
   "outputs": [],
   "source": [
    "assert all([numpy.isclose(complex(eval(parse(entry))), 0) for entry in mom_cons])\n",
    "assert all([numpy.isclose(complex(eval(parse(entry))), 0) for entry in spas_schoutens])\n",
    "assert all([numpy.isclose(complex(eval(parse(entry))), 0) for entry in spbs_schoutens])"
   ]
  },
  {
   "cell_type": "markdown",
   "metadata": {},
   "source": [
    "converting to variables"
   ]
  },
  {
   "cell_type": "code",
   "execution_count": null,
   "metadata": {},
   "outputs": [],
   "source": [
    "sps_vars = ['a{}'.format(i) for i in range(1, len(spas) + 1)] + ['b{}'.format(i) for i in range(1, len(spbs) + 1)]\n",
    "sps_sub_dict, sps_inv_dict = dict(zip(sps, sps_vars)), dict(zip(sps_vars, sps))\n",
    "def sps_repl(string):\n",
    "    string = reduce(lambda x, y: x.replace(y, sps_sub_dict[y]), sps_sub_dict, string)\n",
    "    string = re.sub(r\"(\\d)a\", r\"\\1*a\", string)\n",
    "    string = re.sub(r\"(\\d)b\", r\"\\1*b\", string)\n",
    "    return string"
   ]
  },
  {
   "cell_type": "markdown",
   "metadata": {},
   "source": [
    "Groebner basis of ideal"
   ]
  },
  {
   "cell_type": "code",
   "execution_count": null,
   "metadata": {},
   "outputs": [],
   "source": [
    "R = singular.ring(0, \"(\" + \", \".join(map(str, sps_vars)) + \")\", 'dp')\n",
    "R"
   ]
  },
  {
   "cell_type": "code",
   "execution_count": null,
   "metadata": {
    "scrolled": true
   },
   "outputs": [],
   "source": [
    "I = singular.ideal(list(map(sps_repl, schoutens)) + list(map(sps_repl, mom_cons)))\n",
    "GB = I.groebner()\n",
    "LTs = list(map(singular.lead, GB))\n",
    "LTs"
   ]
  },
  {
   "cell_type": "code",
   "execution_count": null,
   "metadata": {},
   "outputs": [],
   "source": [
    "len(LTs)"
   ]
  },
  {
   "cell_type": "markdown",
   "metadata": {},
   "source": [
    "as exponents"
   ]
  },
  {
   "cell_type": "code",
   "execution_count": null,
   "metadata": {},
   "outputs": [],
   "source": [
    "def to_exp(monomial, variables):\n",
    "    \"\"\"Converts a monomial into a list of exponents.\"\"\"\n",
    "    exps = numpy.zeros(len(variables), dtype=int)\n",
    "    splitted_monomial = list(filter(lambda x: x != '', monomial.split(\"*\")))\n",
    "    for i, ientry in enumerate(splitted_monomial):\n",
    "        if not ientry.isdigit():\n",
    "            if i < len(splitted_monomial) - 1 and splitted_monomial[i + 1].isdigit():\n",
    "                exp = int(splitted_monomial[i + 1])\n",
    "            else:\n",
    "                exp = 1\n",
    "            exps[variables.index(ientry)] = exp\n",
    "    return exps\n",
    "\n",
    "def sps_to_exp(sps_monomial):\n",
    "    return to_exp(sps_monomial, sps_vars)"
   ]
  },
  {
   "cell_type": "code",
   "execution_count": null,
   "metadata": {
    "scrolled": true
   },
   "outputs": [],
   "source": [
    "expLTs = list(map(sps_to_exp, map(str, LTs)))"
   ]
  },
  {
   "cell_type": "code",
   "execution_count": null,
   "metadata": {},
   "outputs": [],
   "source": [
    "def exp_to_sps(exps):\n",
    "    tuples = filter(lambda x: x[1] > 0, zip(sps_vars, exps))\n",
    "    return \"\".join([\"^\".join([sps_inv_dict[tup[0]], str(tup[1])]) if tup[1] > 1 else sps_inv_dict[tup[0]] for tup in tuples])"
   ]
  },
  {
   "cell_type": "markdown",
   "metadata": {},
   "source": [
    "phase weights"
   ]
  },
  {
   "cell_type": "code",
   "execution_count": null,
   "metadata": {},
   "outputs": [],
   "source": [
    "def sps_var_to_pw(var):\n",
    "    pw = numpy.zeros(multiplicity, dtype=int)\n",
    "    spa_match = re.findall(r'⟨(\\d)\\|(\\d)⟩', var)\n",
    "    if spa_match != []:\n",
    "        for i in spa_match[0]:\n",
    "            pw[int(i) - 1] = 1\n",
    "    else:\n",
    "        spb_match = re.findall(r'\\[(\\d)\\|(\\d)\\]', var)\n",
    "        for i in spb_match[0]:\n",
    "            pw[int(i) - 1] = -1\n",
    "    return numpy.array(pw)"
   ]
  },
  {
   "cell_type": "markdown",
   "metadata": {},
   "source": [
    "actual generation"
   ]
  },
  {
   "cell_type": "code",
   "execution_count": null,
   "metadata": {},
   "outputs": [],
   "source": [
    "def basis_monomial_is_acceptable(exponents, expLTs):\n",
    "    for expLT in expLTs:\n",
    "        if min(numpy.array(exponents) - expLT) >= 0:\n",
    "            return False\n",
    "    else:\n",
    "        return True"
   ]
  },
  {
   "cell_type": "code",
   "execution_count": null,
   "metadata": {},
   "outputs": [],
   "source": [
    "def brute_force_recursion(md, pw, called_recursively=False):\n",
    "    pw = numpy.array(pw)\n",
    "    if md == 1 and sum(map(abs, pw)) == 2 and list(pw).count(0) == multiplicity - 2:\n",
    "        i, j = (i + 1 for i, j in enumerate(pw) if j != 0)\n",
    "        if min(pw) == 0:\n",
    "            return [sps_to_exp(sps_sub_dict['⟨{}|{}⟩'.format(i, j)])]\n",
    "        else:\n",
    "            return [sps_to_exp(sps_sub_dict['[{}|{}]'.format(i, j)])]\n",
    "    elif md <= 1:\n",
    "        return []\n",
    "    else:\n",
    "        res = []\n",
    "        for sps_var in sps_vars:\n",
    "            if called_recursively is False:\n",
    "                print('\\rCurrent length', len(res), end='')\n",
    "            var_pw = sps_var_to_pw(sps_inv_dict[sps_var])\n",
    "            new_pw = pw - var_pw\n",
    "            new_res = brute_force_recursion(md - 1, new_pw, called_recursively=True)\n",
    "            sps_exp = sps_to_exp(sps_var)\n",
    "            for entry in new_res:\n",
    "                candidate = tuple(sps_exp + entry)\n",
    "                if candidate not in res and basis_monomial_is_acceptable(candidate, expLTs):\n",
    "                    res += [candidate]\n",
    "        if called_recursively is False:\n",
    "            print('\\rFinal length', len(res), end='         ')\n",
    "        return list(map(numpy.array, res))"
   ]
  },
  {
   "cell_type": "code",
   "execution_count": null,
   "metadata": {},
   "outputs": [],
   "source": [
    "sps_vars[10]"
   ]
  },
  {
   "cell_type": "code",
   "execution_count": null,
   "metadata": {},
   "outputs": [],
   "source": [
    "list(map(exp_to_sps, brute_force_recursion(2, [0, 0, 0, 0, 0])))"
   ]
  },
  {
   "cell_type": "code",
   "execution_count": null,
   "metadata": {},
   "outputs": [],
   "source": [
    "list(map(exp_to_sps, brute_force_recursion(3, [-1, 0, -1, 0, 0])))"
   ]
  },
  {
   "cell_type": "code",
   "execution_count": null,
   "metadata": {
    "scrolled": false
   },
   "outputs": [],
   "source": [
    "%time list(map(exp_to_sps, brute_force_recursion(5, [1, 1, -1, 1, 0])))"
   ]
  }
 ],
 "metadata": {
  "kernelspec": {
   "display_name": "SageMath 9.1",
   "language": "sage",
   "name": "sagemath"
  },
  "language_info": {
   "codemirror_mode": {
    "name": "ipython",
    "version": 3
   },
   "file_extension": ".py",
   "mimetype": "text/x-python",
   "name": "python",
   "nbconvert_exporter": "python",
   "pygments_lexer": "ipython3",
   "version": "3.7.3"
  }
 },
 "nbformat": 4,
 "nbformat_minor": 2
}
