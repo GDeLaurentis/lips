{
 "cells": [
  {
   "cell_type": "code",
   "execution_count": null,
   "metadata": {
    "code_folding": []
   },
   "outputs": [],
   "source": [
    "# imports / initialisations\n",
    "\n",
    "from __future__ import absolute_import\n",
    "from __future__ import division\n",
    "from __future__ import print_function\n",
    "from __future__ import unicode_literals\n",
    "\n",
    "import numpy\n",
    "import random\n",
    "import functools\n",
    "import numbers\n",
    "import lips\n",
    "\n",
    "from copy import deepcopy\n",
    "from sympy import pprint\n",
    "from fractions import Fraction\n",
    "\n",
    "from lips import Particle, Particles\n",
    "from lips.gaussian_rationals import GaussianRational\n",
    "from lips.padic import PAdic\n",
    "from lips.finite_field import ModP"
   ]
  },
  {
   "cell_type": "markdown",
   "metadata": {},
   "source": [
    "### Analytical continuation, i.e. square root branch cut"
   ]
  },
  {
   "cell_type": "code",
   "execution_count": null,
   "metadata": {},
   "outputs": [],
   "source": [
    "import mpmath\n",
    "mpmath.mp.dps = 16"
   ]
  },
  {
   "cell_type": "code",
   "execution_count": null,
   "metadata": {},
   "outputs": [],
   "source": [
    "oParticle = Particle(real_momentum=True)"
   ]
  },
  {
   "cell_type": "code",
   "execution_count": null,
   "metadata": {},
   "outputs": [],
   "source": [
    "oParticle.four_mom = oParticle.four_mom + numpy.array([+0.000000000001j, 0, 0, 0])"
   ]
  },
  {
   "cell_type": "code",
   "execution_count": null,
   "metadata": {},
   "outputs": [],
   "source": [
    "print(mpmath.sqrt(oParticle.four_mom[0] + oParticle.four_mom[3]))\n",
    "print(mpmath.polar(mpmath.sqrt(oParticle.four_mom[0] + oParticle.four_mom[3]))[1]/mpmath.pi)"
   ]
  },
  {
   "cell_type": "code",
   "execution_count": null,
   "metadata": {},
   "outputs": [],
   "source": [
    "oParticle.four_mom = - oParticle.four_mom"
   ]
  },
  {
   "cell_type": "code",
   "execution_count": null,
   "metadata": {},
   "outputs": [],
   "source": [
    "mpmath.sqrt(oParticle.four_mom[0] + oParticle.four_mom[3])"
   ]
  },
  {
   "cell_type": "code",
   "execution_count": null,
   "metadata": {},
   "outputs": [],
   "source": [
    "print(mpmath.sqrt(oParticle.four_mom[0] + oParticle.four_mom[3]))\n",
    "print(mpmath.polar(mpmath.sqrt(oParticle.four_mom[0] + oParticle.four_mom[3]))[1]/mpmath.pi)"
   ]
  },
  {
   "cell_type": "markdown",
   "metadata": {},
   "source": [
    "### Amplitude Definition"
   ]
  },
  {
   "cell_type": "code",
   "execution_count": null,
   "metadata": {
    "code_folding": [
     0
    ]
   },
   "outputs": [],
   "source": [
    "def mIA6g_pppmmm(oParticles):\n",
    "    \n",
    "    zab2_4231 = oParticles.compute(\"⟨4|(2+3)|1]\")\n",
    "    zb_16 = oParticles.compute(\"[1|6]\")\n",
    "    za_23 = oParticles.compute(\"⟨2|3⟩\")\n",
    "    za_34 = oParticles.compute(\"⟨3|4⟩\")\n",
    "    zb_56 = oParticles.compute(\"[5|6]\")\n",
    "    zab2_2165 = oParticles.compute(\"⟨2|(1+6)|5]\")\n",
    "    s_234 = oParticles.compute(\"s_234\")\n",
    "    zab2_6123 = oParticles.compute(\"⟨6|(1+2)|3]\")\n",
    "    za_12 = oParticles.compute(\"⟨1|2⟩\")\n",
    "    za_16 = oParticles.compute(\"⟨1|6⟩\")\n",
    "    zb_34 = oParticles.compute(\"[3|4]\")\n",
    "    zb_45 = oParticles.compute(\"[4|5]\")\n",
    "    s_345 = oParticles.compute(\"s_345\")\n",
    "    \n",
    "    return zab2_4231 ** 3 / (zb_16 * za_23 * za_34 * zb_56 * zab2_2165 * s_234) - zab2_6123 ** 3 / (za_12 * za_16 * zb_34 * zb_45 * zab2_2165 * s_345)"
   ]
  },
  {
   "cell_type": "code",
   "execution_count": null,
   "metadata": {
    "code_folding": [
     0
    ]
   },
   "outputs": [],
   "source": [
    "def mIA6g_pppmmm2(oParticles):\n",
    "    \n",
    "    zb_16 = oParticles.compute(\"[1|6]\")\n",
    "    za_23 = oParticles.compute(\"⟨2|3⟩\")\n",
    "    za_34 = oParticles.compute(\"⟨3|4⟩\")\n",
    "    zb_56 = oParticles.compute(\"[5|6]\")\n",
    "    s_234 = oParticles.compute(\"s_234\")\n",
    "    za_12 = oParticles.compute(\"⟨1|2⟩\")\n",
    "    za_16 = oParticles.compute(\"⟨1|6⟩\")\n",
    "    zb_34 = oParticles.compute(\"[3|4]\")\n",
    "    zb_45 = oParticles.compute(\"[4|5]\")\n",
    "    s_345 = oParticles.compute(\"s_345\")\n",
    "    zb_23 = oParticles.compute(\"[2|3]\")\n",
    "    za_56 = oParticles.compute(\"⟨5|6⟩\")\n",
    "    zb_12 = oParticles.compute(\"[1|2]\")\n",
    "    za_45 = oParticles.compute(\"⟨4|5⟩\")\n",
    "    s_123 = oParticles.compute(\"s_123\")\n",
    "    zab2_1234 = oParticles.compute(\"⟨1|(2+3)|4]\")\n",
    "    zab2_5162 = oParticles.compute(\"⟨5|(1+6)|2]\")\n",
    "    zab2_3126 = oParticles.compute(\"⟨3|(1+2)|6]\")\n",
    "    \n",
    "    return (zb_23 ** 3 * za_56 ** 3 / (za_16 * zb_34 * zab2_1234 * zab2_5162 * s_234) -\n",
    "            zb_12 ** 3 * za_45 ** 3 / (zb_16 * za_34 * zab2_3126 * zab2_5162 * s_345) +\n",
    "            s_123 ** 3 / (za_12 * za_23 * zb_45 * zb_56 * zab2_1234 * zab2_3126))"
   ]
  },
  {
   "cell_type": "markdown",
   "metadata": {},
   "source": [
    "### Floating Point Arithmetic"
   ]
  },
  {
   "cell_type": "code",
   "execution_count": null,
   "metadata": {},
   "outputs": [],
   "source": [
    "oParticles = Particles(6)"
   ]
  },
  {
   "cell_type": "code",
   "execution_count": null,
   "metadata": {
    "scrolled": true
   },
   "outputs": [],
   "source": [
    "print(mIA6g_pppmmm(oParticles))\n",
    "print(mIA6g_pppmmm2(oParticles))"
   ]
  },
  {
   "cell_type": "markdown",
   "metadata": {},
   "source": [
    "### Gaussian Rational Arithmetic"
   ]
  },
  {
   "cell_type": "code",
   "execution_count": null,
   "metadata": {},
   "outputs": [],
   "source": [
    "oParticles = Particles(6, dtype=\"gaussian rational\")"
   ]
  },
  {
   "cell_type": "code",
   "execution_count": null,
   "metadata": {
    "scrolled": false
   },
   "outputs": [],
   "source": [
    "print(mIA6g_pppmmm(oParticles))\n",
    "print(mIA6g_pppmmm2(oParticles))"
   ]
  },
  {
   "cell_type": "markdown",
   "metadata": {},
   "source": [
    "### Finite Field Arithmetic"
   ]
  },
  {
   "cell_type": "code",
   "execution_count": null,
   "metadata": {},
   "outputs": [],
   "source": [
    "oParticles = Particles(6, dtype=\"finite field\")"
   ]
  },
  {
   "cell_type": "code",
   "execution_count": null,
   "metadata": {},
   "outputs": [],
   "source": [
    "print(mIA6g_pppmmm(oParticles))\n",
    "print(mIA6g_pppmmm2(oParticles))"
   ]
  },
  {
   "cell_type": "markdown",
   "metadata": {},
   "source": [
    "### PAdic Arithmetic"
   ]
  },
  {
   "cell_type": "code",
   "execution_count": null,
   "metadata": {},
   "outputs": [],
   "source": [
    "oParticles = Particles(6, dtype=\"padic\")"
   ]
  },
  {
   "cell_type": "code",
   "execution_count": null,
   "metadata": {},
   "outputs": [],
   "source": [
    "print(mIA6g_pppmmm(oParticles))\n",
    "print(mIA6g_pppmmm2(oParticles))"
   ]
  },
  {
   "cell_type": "markdown",
   "metadata": {},
   "source": [
    "#### p-adic with square root"
   ]
  },
  {
   "cell_type": "code",
   "execution_count": null,
   "metadata": {},
   "outputs": [],
   "source": [
    "oParticles = Particles(6, seed=0, dtype=\"padic\")\n",
    "4 * oParticles.compute(\"Δ_135\") - 4 * oParticles.compute(\"⟨4|1+2|3]\") * oParticles.compute(\"⟨3|1+2|4]\")"
   ]
  },
  {
   "cell_type": "code",
   "execution_count": null,
   "metadata": {},
   "outputs": [],
   "source": [
    "(oParticles.compute(\"s_123\") - oParticles.compute(\"s_124\")) ** 2"
   ]
  },
  {
   "cell_type": "markdown",
   "metadata": {},
   "source": [
    "#### Spurious pole set to prime -> precision loss"
   ]
  },
  {
   "cell_type": "code",
   "execution_count": null,
   "metadata": {},
   "outputs": [],
   "source": [
    "from lips.particle import p, k"
   ]
  },
  {
   "cell_type": "code",
   "execution_count": null,
   "metadata": {},
   "outputs": [],
   "source": [
    "oParticles.set(\"⟨2|(1+6)|5]\", PAdic(p, p, k, 0))"
   ]
  },
  {
   "cell_type": "code",
   "execution_count": null,
   "metadata": {},
   "outputs": [],
   "source": [
    "oParticles.compute(\"⟨2|(1+6)|5]\")"
   ]
  },
  {
   "cell_type": "code",
   "execution_count": null,
   "metadata": {},
   "outputs": [],
   "source": [
    "print(oParticles.total_mom)\n",
    "for i in range(len(oParticles)):\n",
    "    print(oParticles.ldot(i + 1, i + 1))"
   ]
  },
  {
   "cell_type": "code",
   "execution_count": null,
   "metadata": {},
   "outputs": [],
   "source": [
    "# this one has ⟨2|(1+6)|5] as spurious pole -> precision loss\n",
    "mIA6g_pppmmm(oParticles)"
   ]
  },
  {
   "cell_type": "code",
   "execution_count": null,
   "metadata": {},
   "outputs": [],
   "source": [
    "# this one has different spurious poles -> no precision loss\n",
    "mIA6g_pppmmm2(oParticles)"
   ]
  },
  {
   "cell_type": "markdown",
   "metadata": {},
   "source": [
    "### Ansatz - from Daniel's code"
   ]
  },
  {
   "cell_type": "code",
   "execution_count": null,
   "metadata": {},
   "outputs": [],
   "source": [
    "from antares.ansatze.interface import Ansatz\n",
    "from antares.ansatze.matrix_loader import LoadMatrix\n",
    "from antares.core.numerical_methods import Numerical_Methods\n",
    "from antares.core.unknown import Unknown\n",
    "from antares.core.settings import settings"
   ]
  },
  {
   "cell_type": "code",
   "execution_count": null,
   "metadata": {
    "scrolled": true
   },
   "outputs": [],
   "source": [
    "# oAnsatze = Ansatz([6, 6], [[-3, 0, 0, 3, 0, 0], [0, 0, -3, 0, 0, 3]])\n",
    "oAnsatze = Ansatz([6], [[0, 0, -3, 0, 0, 3]])\n",
    "for oAnsatz in oAnsatze:\n",
    "    pprint(oAnsatz)\n",
    "    print(\"\")"
   ]
  },
  {
   "cell_type": "code",
   "execution_count": null,
   "metadata": {},
   "outputs": [],
   "source": [
    "obj_name = \"tree_pppmmm\"\n",
    "\n",
    "class num_func(Numerical_Methods, object):\n",
    "\n",
    "    def __init__(self, evaluable_function):\n",
    "        self.evaluable_function = evaluable_function\n",
    "        self.multiplicity = 6\n",
    "        self.__name__ = obj_name\n",
    "        self.spurious_poles = []\n",
    "        self.easy_boxes = []\n",
    "        self.amppart = None\n",
    "\n",
    "    def __call__(self, oPs):\n",
    "        return self.evaluable_function(oPs)"
   ]
  },
  {
   "cell_type": "code",
   "execution_count": null,
   "metadata": {},
   "outputs": [],
   "source": [
    "oFunc = num_func(mIA6g_pppmmm)\n",
    "oFunc.__name__\n",
    "oUnknown = Unknown(oFunc)"
   ]
  },
  {
   "cell_type": "code",
   "execution_count": null,
   "metadata": {},
   "outputs": [],
   "source": [
    "# (3) Manual Partial Fractioning Input\n",
    "from antares.terms.terms import Terms, FittingSettings\n",
    "lPRN_Invs = [\n",
    "    # [[]],\n",
    "    [[]],\n",
    "    # [[\"⟨6|(2+4)|3]\"]],\n",
    "    # [[\"⟨4|(3+5)|1]\"]]\n",
    "]\n",
    "lPRN_Exps = [\n",
    "    # [[]],\n",
    "    [[]],\n",
    "    # [[3]],\n",
    "    # [[4]]\n",
    "]\n",
    "lPRD_Invs = [\n",
    "    # [\"[1|6]\", \"⟨2|3⟩\", \"⟨3|4⟩\", \"[5|6]\", \"⟨2|(1+6)|5]\", \"s_234\"],\n",
    "    [\"⟨1|2⟩\", \"⟨1|6⟩\", \"[3|4]\", \"[4|5]\", \"⟨2|(1+6)|5]\", \"s_345\"],\n",
    "    # [\"⟨1|2⟩\", \"⟨2|3⟩\", \"[4|5]\", \"[5|6]\", \"⟨1|(2+3)|4]\", \"⟨3|(1+2)|6]\", \"s_123\"],\n",
    "    # [\"⟨1|6⟩\", \"[2|3]\", \"[3|4]\", \"⟨5|6⟩\", \"⟨1|(2+3)|4]\", \"⟨5|(1+6)|2]\", \"s_234\"],\n",
    "    # [\"[1|2]\", \"[1|6]\", \"⟨3|4⟩\", \"⟨4|5⟩\", \"⟨3|(1+2)|6]\", \"⟨5|(1+6)|2]\", \"s_345\"]\n",
    "]\n",
    "lPRD_Exps = [\n",
    "    # [1, 1, 1, 1, 1, 1, 1],\n",
    "    [1, 1, 1, 1, 1, 1, 1],\n",
    "]\n",
    "lSmallInvs, lSmallInvsExps = [\"s_345\"], [1]  #  [\"⟨1|2⟩\"], [1]   # [\"s_345\"], [1]\n",
    "lSymmetries =  []\n",
    "lUsefulSymmetries = []  # [('321654', False, '')]  # [(\"234561\", True, \"\"), (\"345612\", False, \"\")]\n",
    "\n",
    "lPRN_Coefs = [[] for entry in lPRN_Invs]\n",
    "oTerms = Terms(lPRN_Invs, lPRN_Exps, lPRN_Coefs, lPRD_Invs, lPRD_Exps)\n",
    "oTerms.useful_symmetries = lUsefulSymmetries\n",
    "oTerms.oUnknown, oTerms.oFittingSettings = deepcopy(oUnknown), FittingSettings()\n",
    "oTerms.oFittingSettings.lSmallInvs, oTerms.oFittingSettings.lSmallInvsExps, oTerms.oFittingSettings.lSymmetries = lSmallInvs, lSmallInvsExps, lSymmetries\n",
    "if not hasattr(oTerms.oUnknown, \"den_invs\"):\n",
    "    oTerms.oUnknown.den_invs = None\n",
    "if not hasattr(oTerms.oUnknown, \"num_invs\"):\n",
    "    oTerms.oUnknown.num_invs = None\n",
    "for symmetry in lSymmetries:\n",
    "    oTerms.append(Term(symmetry))\n",
    "print(oTerms)"
   ]
  },
  {
   "cell_type": "code",
   "execution_count": null,
   "metadata": {},
   "outputs": [],
   "source": [
    "# Inversion settings\n",
    "settings.RefineFit = False\n",
    "settings.UseParallelisation = False\n",
    "settings.InversionUsesGMPs = False\n",
    "settings.UseGpu = False"
   ]
  },
  {
   "cell_type": "code",
   "execution_count": null,
   "metadata": {},
   "outputs": [],
   "source": [
    "import os\n",
    "os.environ[\"BH_ACCURACY\"] = \"9\""
   ]
  },
  {
   "cell_type": "code",
   "execution_count": null,
   "metadata": {},
   "outputs": [],
   "source": [
    "import lips\n",
    "lips.particle.p = 10009\n",
    "lips.particle.k = 3"
   ]
  },
  {
   "cell_type": "code",
   "execution_count": null,
   "metadata": {
    "scrolled": false
   },
   "outputs": [],
   "source": [
    "Matrix, _ = LoadMatrix(oTerms, oAnsatze, dtype=\"padic\")"
   ]
  },
  {
   "cell_type": "code",
   "execution_count": null,
   "metadata": {
    "scrolled": true
   },
   "outputs": [],
   "source": [
    "print(Matrix)"
   ]
  },
  {
   "cell_type": "code",
   "execution_count": null,
   "metadata": {},
   "outputs": [],
   "source": [
    "len(Matrix)"
   ]
  },
  {
   "cell_type": "code",
   "execution_count": null,
   "metadata": {},
   "outputs": [],
   "source": [
    "from antares.ansatze.matrix_inverter import RowReduce, Solve"
   ]
  },
  {
   "cell_type": "code",
   "execution_count": null,
   "metadata": {},
   "outputs": [],
   "source": [
    "RowReducedMatrix, redundant, _ = RowReduce(Matrix, pivoting=0)\n",
    "print(\"\")\n",
    "print(redundant)"
   ]
  },
  {
   "cell_type": "code",
   "execution_count": null,
   "metadata": {
    "scrolled": true
   },
   "outputs": [],
   "source": [
    "pprint(RowReducedMatrix)"
   ]
  },
  {
   "cell_type": "code",
   "execution_count": null,
   "metadata": {},
   "outputs": [],
   "source": [
    "for i in range(len(RowReducedMatrix)):\n",
    "    print(RowReducedMatrix[i][i])"
   ]
  },
  {
   "cell_type": "code",
   "execution_count": null,
   "metadata": {},
   "outputs": [],
   "source": [
    "print(Solve(Matrix))"
   ]
  },
  {
   "cell_type": "code",
   "execution_count": null,
   "metadata": {},
   "outputs": [],
   "source": [
    "print([entry + PAdic(0, entry.p, 1) for entry in Solve(Matrix)])"
   ]
  },
  {
   "cell_type": "code",
   "execution_count": null,
   "metadata": {},
   "outputs": [],
   "source": [
    "PAdic(1, 10009, 3) / 2 * 5"
   ]
  },
  {
   "cell_type": "code",
   "execution_count": null,
   "metadata": {
    "scrolled": true
   },
   "outputs": [],
   "source": [
    "oTerms.fit_numerators()"
   ]
  },
  {
   "cell_type": "markdown",
   "metadata": {},
   "source": [
    "### Two Loop Five Parton Example"
   ]
  },
  {
   "cell_type": "code",
   "execution_count": null,
   "metadata": {
    "code_folding": [
     0
    ]
   },
   "outputs": [],
   "source": [
    "# mandelstam expression\n",
    "uubggg_pmpmp_Nf1_3 = \"\"\"-1./4+s34^3/(4*(-s15+s23+s34)^3)-\n",
    "(3*s34^2)/(4*(-s15+s23+s34)^2)+(3*s34)/(4*(-s15+s23+s34))-\n",
    "(3*s15*s34*s45)/(4*(-s15+s23+s34)*(s12+s23-s45)^2)+\n",
    "(3*s15*s34^2*s45)/(4*(-s15+s23+s34)^3*(s12+s23-s45))-\n",
    "(3*s15*s34*s45)/(4*(-s15+s23+s34)^2*(s12+s23-s45))+\n",
    "(3*s15^2*s34*s45^2)/(4*(-s15+s23+s34)^3*(s12+s23-s45)^2)+\n",
    "(s15^3*s45^3)/(4*(-s15+s23+s34)^3*(s12+s23-s45)^3)+\n",
    "(3*s15*s34*s45*(-s15+s34+s45))/(4*(-s15+s23+s34)^2*\n",
    "(s12+s23-s45)^2)+(3*s15^2*s45^2*(-s15+s34+s45))/\n",
    "(4*(-s15+s23+s34)^2*(s12+s23-s45)^3)+\n",
    "(3*s15*s45*(s15^2+s34^2-3*s15*s45+s45^2+2*s34*(-s15+s45)))/\n",
    "(4*(-s15+s23+s34)*(s12+s23-s45)^3)+\n",
    "(-s23^3+3*s23^2*s45-3*s23*s45*(-s15+s45)+\n",
    "s45*(3*s15*(s15-s34)-6*s15*s45+s45^2))/\n",
    "(4*(s12+s23-s45)^3)+(-(s12+s34)/(4*s12^2*(-s15+s23+s34))-\n",
    "s34^2/(4*s12^2*(-s15+s23+s34)*(s12+s23-s45))-\n",
    "(s15^2*s45^2*(-s15+s34+s45)^2)/(4*s12^2*(-s15+s23+s34)^3*\n",
    "(s12+s23-s45)^3)+(s15^2+s23^2-s34^2+s15*(s23-6*s45)-\n",
    "3*s23*s45+3*s45^2)/(4*s12^2*(s12+s23-s45)^2)-\n",
    "(s34^4+s15^2*s45^2+2*s34^3*(-s15+s45)+4*s15*s34*s45*\n",
    "(-s15+s45)+s34^2*(s15+s45)^2)/(4*s12^2*(-s15+s23+s34)^3*\n",
    "(s12+s23-s45))+(s34*(-(s15*(s34-2*s45))+s34*(s34+s45)))/\n",
    "(2*s12^2*(-s15+s23+s34)^2*(s12+s23-s45))-\n",
    "(s34*(s12*s34-s15*(s34-2*s45)+s34*(s34+s45)))/\n",
    "(4*s12^2*(-s15+s23+s34)^3)+(2*s12*s34+s15*(-s34+s45)+\n",
    "s34*(2*s34+s45))/(4*s12^2*(-s15+s23+s34)^2)+\n",
    "(s15*s45*(s15^2*(s34-s45)+s34*(s34+s45)^2+\n",
    "s15*(-2*s34^2-s34*s45+s45^2)))/(2*s12^2*(s15-s23-s34)^3*\n",
    "(s12+s23-s45)^2)+(s15*s45*(s15^3-(s34+s45)^3-\n",
    "s15^2*(3*s34+4*s45)+s15*(3*s34^2+7*s34*s45+4*s45^2)))/\n",
    "(2*s12^2*(-s15+s23+s34)^2*(s12+s23-s45)^3)+\n",
    "(s15^3-9*s15^2*s45+(2*s34-s45)*(s34+s45)^2+\n",
    "s15*(-3*s34^2+4*s34*s45+9*s45^2))/(4*s12^2*(-s15+s23+s34)*\n",
    "(s12+s23-s45)^2)+(s15^4+(s34+s45)^4-\n",
    "2*s15^3*(2*s34+5*s45)-2*s15*(s34+s45)^2*(2*s34+5*s45)+\n",
    "s15^2*(6*s34^2+24*s34*s45+19*s45^2))/(4*s12^2*(s15-s23-s34)*\n",
    "(s12+s23-s45)^3)+(s15^3*(s34-3*s45)-s34*(s34+s45)^3-\n",
    "s15^2*(3*s34^2+s34*s45-8*s45^2)+s15*(3*s34^3+7*s34^2*s45+\n",
    "s34*s45^2-3*s45^3))/(4*s12^2*(-s15+s23+s34)^2*\n",
    "(s12+s23-s45)^2)+(-s15^3-s23^3+s34^3+4*s34^2*s45+\n",
    "6*s34*s45^2+4*s45^3+s23^2*(s34+4*s45)+\n",
    "s15^2*(-s23+3*s34+8*s45)-s23*(s34^2+4*s34*s45+6*s45^2)-\n",
    "s15*(s23^2+3*(s34+2*s45)^2-2*s23*(s34+3*s45)))/\n",
    "(4*s12^2*(s12+s23-s45)^3))*tr5\"\"\""
   ]
  },
  {
   "cell_type": "code",
   "execution_count": null,
   "metadata": {
    "scrolled": true
   },
   "outputs": [],
   "source": [
    "print(uubggg_pmpmp_Nf1_3)"
   ]
  },
  {
   "cell_type": "code",
   "execution_count": null,
   "metadata": {
    "code_folding": []
   },
   "outputs": [],
   "source": [
    "# spinor expression\n",
    "uubggg_pmpmp_Nf1_3_spinor = \"\"\"(-1*spbb_14**3*spbb_23**3)/(2*spbb_13**3*spbb_24**3)\"\"\""
   ]
  },
  {
   "cell_type": "code",
   "execution_count": null,
   "metadata": {},
   "outputs": [],
   "source": [
    "print(uubggg_pmpmp_Nf1_3_spinor)"
   ]
  },
  {
   "cell_type": "markdown",
   "metadata": {},
   "source": [
    "##### Gaussian Rational"
   ]
  },
  {
   "cell_type": "code",
   "execution_count": null,
   "metadata": {},
   "outputs": [],
   "source": [
    "oParticles = Particles(5, dtype=\"gaussian rational\")"
   ]
  },
  {
   "cell_type": "code",
   "execution_count": null,
   "metadata": {},
   "outputs": [],
   "source": [
    "# some definitions\n",
    "s12 = oParticles.compute(\"s_12\")\n",
    "s23 = oParticles.compute(\"s_23\")\n",
    "s34 = oParticles.compute(\"s_34\")\n",
    "s45 = oParticles.compute(\"s_45\")\n",
    "s15 = oParticles.compute(\"s_15\")\n",
    "tr5 = oParticles.compute(\"tr5_1234\")\n",
    "spbb_14 = oParticles.compute(\"[1|4]\")\n",
    "spbb_23 = oParticles.compute(\"[2|3]\")\n",
    "spbb_13 = oParticles.compute(\"[1|3]\")\n",
    "spbb_24 = oParticles.compute(\"[2|4]\")"
   ]
  },
  {
   "cell_type": "code",
   "execution_count": null,
   "metadata": {},
   "outputs": [],
   "source": [
    "print(eval(uubggg_pmpmp_Nf1_3.replace(\"\\n\", \"\").replace(\"^\", \"**\").replace(\"1./4\", \"Fraction(1, 4)\")))\n",
    "print(eval(uubggg_pmpmp_Nf1_3_spinor))"
   ]
  },
  {
   "cell_type": "markdown",
   "metadata": {},
   "source": [
    "##### PAdic, generic point"
   ]
  },
  {
   "cell_type": "code",
   "execution_count": null,
   "metadata": {},
   "outputs": [],
   "source": [
    "oParticles = Particles(5, dtype=\"padic\")"
   ]
  },
  {
   "cell_type": "code",
   "execution_count": null,
   "metadata": {},
   "outputs": [],
   "source": [
    "print(oParticles.total_mom)\n",
    "for i in range(len(oParticles)):\n",
    "    print(oParticles.ldot(i + 1, i + 1))"
   ]
  },
  {
   "cell_type": "code",
   "execution_count": null,
   "metadata": {},
   "outputs": [],
   "source": [
    "# some definitions\n",
    "s12 = oParticles.compute(\"s_12\")\n",
    "s23 = oParticles.compute(\"s_23\")\n",
    "s34 = oParticles.compute(\"s_34\")\n",
    "s45 = oParticles.compute(\"s_45\")\n",
    "s15 = oParticles.compute(\"s_15\")\n",
    "tr5 = oParticles.compute(\"tr5_1234\")\n",
    "spbb_14 = oParticles.compute(\"[1|4]\")\n",
    "spbb_23 = oParticles.compute(\"[2|3]\")\n",
    "spbb_13 = oParticles.compute(\"[1|3]\")\n",
    "spbb_24 = oParticles.compute(\"[2|4]\")"
   ]
  },
  {
   "cell_type": "code",
   "execution_count": null,
   "metadata": {},
   "outputs": [],
   "source": [
    "eval(uubggg_pmpmp_Nf1_3.replace(\"\\n\", \"\").replace(\"^\", \"**\").replace(\"1./4\", \"1/PAdic(4, p, k, 0)\"))"
   ]
  },
  {
   "cell_type": "code",
   "execution_count": null,
   "metadata": {},
   "outputs": [],
   "source": [
    "eval(uubggg_pmpmp_Nf1_3_spinor)"
   ]
  },
  {
   "cell_type": "markdown",
   "metadata": {},
   "source": [
    "##### PAdic, spurious pole set to prime - result is regular, precision loss depending on expression"
   ]
  },
  {
   "cell_type": "code",
   "execution_count": null,
   "metadata": {},
   "outputs": [],
   "source": [
    "oParticles.set(\"[1|2]\", PAdic(p, p, k))"
   ]
  },
  {
   "cell_type": "code",
   "execution_count": null,
   "metadata": {},
   "outputs": [],
   "source": [
    "oParticles.compute(\"s_12\")"
   ]
  },
  {
   "cell_type": "code",
   "execution_count": null,
   "metadata": {},
   "outputs": [],
   "source": [
    "print(oParticles.total_mom)\n",
    "for i in range(len(oParticles)):\n",
    "    print(oParticles.ldot(i + 1, i + 1))"
   ]
  },
  {
   "cell_type": "code",
   "execution_count": null,
   "metadata": {},
   "outputs": [],
   "source": [
    "# some definitions\n",
    "# s12 = oParticles.compute(\"s_12\")\n",
    "s12 = oParticles.compute(\"⟨2|1⟩\") * oParticles.compute(\"[1|2]\")\n",
    "s23 = oParticles.compute(\"s_23\")\n",
    "s34 = oParticles.compute(\"s_34\")\n",
    "s45 = oParticles.compute(\"s_45\")\n",
    "s15 = oParticles.compute(\"s_15\")\n",
    "tr5 = oParticles.compute(\"tr5_1234\")\n",
    "spbb_14 = oParticles.compute(\"[1|4]\")\n",
    "spbb_23 = oParticles.compute(\"[2|3]\")\n",
    "spbb_13 = oParticles.compute(\"[1|3]\")\n",
    "spbb_24 = oParticles.compute(\"[2|4]\")"
   ]
  },
  {
   "cell_type": "code",
   "execution_count": null,
   "metadata": {},
   "outputs": [],
   "source": [
    "eval(uubggg_pmpmp_Nf1_3.replace(\"\\n\", \"\").replace(\"^\", \"**\").replace(\"1./4\", \"1/PAdic(4, p, k)\"))"
   ]
  },
  {
   "cell_type": "code",
   "execution_count": null,
   "metadata": {},
   "outputs": [],
   "source": [
    "eval(uubggg_pmpmp_Nf1_3_spinor)"
   ]
  },
  {
   "cell_type": "code",
   "execution_count": null,
   "metadata": {},
   "outputs": [],
   "source": [
    "eval(uubggg_pmpmp_Nf1_3.replace(\"\\n\", \"\").replace(\"^\", \"**\").replace(\"1./4\", \"1/PAdic(4, p, k)\")) - eval(uubggg_pmpmp_Nf1_3_spinor)"
   ]
  },
  {
   "cell_type": "markdown",
   "metadata": {},
   "source": [
    "##### PAdic, detecting real poles - leading p ^ n is the order of the pole"
   ]
  },
  {
   "cell_type": "code",
   "execution_count": null,
   "metadata": {},
   "outputs": [],
   "source": [
    "oParticles = Particles(5, dtype=\"padic\")"
   ]
  },
  {
   "cell_type": "code",
   "execution_count": null,
   "metadata": {},
   "outputs": [],
   "source": [
    "oParticles.set(\"[1|3]\", PAdic(p, p, k))   # try \"[1|4]\" or \"[1|3]\", notice difference (remember to reinizialise object to clean wierd phase space point)"
   ]
  },
  {
   "cell_type": "code",
   "execution_count": null,
   "metadata": {},
   "outputs": [],
   "source": [
    "oParticles.compute(\"[1|3]\")"
   ]
  },
  {
   "cell_type": "code",
   "execution_count": null,
   "metadata": {},
   "outputs": [],
   "source": [
    "print(oParticles.total_mom)\n",
    "for i in range(len(oParticles)):\n",
    "    print(oParticles.ldot(i + 1, i + 1))"
   ]
  },
  {
   "cell_type": "code",
   "execution_count": null,
   "metadata": {},
   "outputs": [],
   "source": [
    "# some definitions\n",
    "s12 = oParticles.compute(\"s_12\")\n",
    "s23 = oParticles.compute(\"s_23\")\n",
    "s34 = oParticles.compute(\"s_34\")\n",
    "s45 = oParticles.compute(\"s_45\")\n",
    "s15 = oParticles.compute(\"s_15\")\n",
    "tr5 = oParticles.compute(\"tr5_1234\")\n",
    "spbb_14 = oParticles.compute(\"[1|4]\")\n",
    "spbb_23 = oParticles.compute(\"[2|3]\")\n",
    "spbb_13 = oParticles.compute(\"[1|3]\")\n",
    "spbb_24 = oParticles.compute(\"[2|4]\")"
   ]
  },
  {
   "cell_type": "code",
   "execution_count": null,
   "metadata": {},
   "outputs": [],
   "source": [
    "eval(uubggg_pmpmp_Nf1_3.replace(\"\\n\", \"\").replace(\"^\", \"**\").replace(\"1./4\", \"1/PAdic(4, p, k, 0)\"))"
   ]
  },
  {
   "cell_type": "code",
   "execution_count": null,
   "metadata": {},
   "outputs": [],
   "source": [
    "eval(uubggg_pmpmp_Nf1_3_spinor)"
   ]
  },
  {
   "cell_type": "markdown",
   "metadata": {},
   "source": [
    "### Subclassing numbers.Rational ?"
   ]
  },
  {
   "cell_type": "code",
   "execution_count": null,
   "metadata": {
    "code_folding": [
     0
    ]
   },
   "outputs": [],
   "source": [
    "class rational_subclass(numbers.Rational):\n",
    "    \n",
    "    # __slots__ = ('_numerator', '_denominator')\n",
    "    \n",
    "    def __new__(cls):\n",
    "        self = super(rational_subclass, cls).__new__(cls)\n",
    "        \n",
    "        self._numerator = 1\n",
    "        self._denominator = 31\n",
    "        \n",
    "        return self\n",
    "    \n",
    "    @property\n",
    "    def numerator(self):\n",
    "        return self._numerator\n",
    "    \n",
    "    @property\n",
    "    def denominator(self):\n",
    "        return self._denominator\n",
    "    \n",
    "    def __abs__(self):\n",
    "        pass\n",
    "    \n",
    "    def __add__(self, other):\n",
    "        pass\n",
    "    \n",
    "    def __div__(self, other):\n",
    "        pass\n",
    "    \n",
    "    def __eq__(self, other):\n",
    "        pass\n",
    "    \n",
    "    def __floordiv__(self, other):\n",
    "        pass\n",
    "    \n",
    "    def __le__(self, other):\n",
    "        pass\n",
    "    \n",
    "    def __lt__(self, other):\n",
    "        pass\n",
    "    \n",
    "    def __mod__(self, other):\n",
    "        pass\n",
    "    \n",
    "    def __mul__(self, other):\n",
    "        pass\n",
    "    \n",
    "    def __neg__(self, other):\n",
    "        pass\n",
    "    \n",
    "    def __pos__(self, other):\n",
    "        pass\n",
    "    \n",
    "    def __pow__(self, other):\n",
    "        pass\n",
    "    \n",
    "    def __radd__(self, other):\n",
    "        pass\n",
    "    \n",
    "    def __rdiv__(self, other):\n",
    "        pass\n",
    "    \n",
    "    def __rfloordiv__(self, other):\n",
    "        pass\n",
    "    \n",
    "    def __rmod__(self, other):\n",
    "        pass\n",
    "    \n",
    "    def __rmul__(self, other):\n",
    "        pass\n",
    "    \n",
    "    def __rpow__(self, other):\n",
    "        pass\n",
    "    \n",
    "    def __rtruediv__(self, other):\n",
    "        pass\n",
    "    \n",
    "    def __truediv__(self, other):\n",
    "        pass\n",
    "    \n",
    "    def __trunc__(self, other):\n",
    "        pass"
   ]
  }
 ],
 "metadata": {
  "kernelspec": {
   "display_name": "Python 2",
   "language": "python",
   "name": "python2"
  },
  "language_info": {
   "codemirror_mode": {
    "name": "ipython",
    "version": 2
   },
   "file_extension": ".py",
   "mimetype": "text/x-python",
   "name": "python",
   "nbconvert_exporter": "python",
   "pygments_lexer": "ipython2",
   "version": "2.7.12"
  }
 },
 "nbformat": 4,
 "nbformat_minor": 2
}
