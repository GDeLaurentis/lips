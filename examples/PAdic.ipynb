{
 "cells": [
  {
   "cell_type": "code",
   "execution_count": 1,
   "metadata": {},
   "outputs": [],
   "source": [
    "# imports / initialisations\n",
    "\n",
    "from __future__ import unicode_literals\n",
    "from __future__ import print_function\n",
    "\n",
    "import numpy\n",
    "import random\n",
    "import functools\n",
    "import numbers\n",
    "\n",
    "from fractions import Fraction\n",
    "\n",
    "from antares.core.invariants import Invariants\n",
    "\n",
    "from lips import Particles\n",
    "from lips.gaussian_rationals import GaussianRational"
   ]
  },
  {
   "cell_type": "markdown",
   "metadata": {},
   "source": [
    "### Finite Field Arithmetic"
   ]
  },
  {
   "cell_type": "code",
   "execution_count": 2,
   "metadata": {},
   "outputs": [],
   "source": [
    "class ModP(int):\n",
    "    'Integers modulus p, with p prime.'\n",
    "    \n",
    "    def __new__(cls, num, p):\n",
    "        assert type(num) in [int, long] and type(p) in [int,long] , \"Non integer modulus.\"\n",
    "        self = int.__new__(cls, int(num) % int(p))\n",
    "        self.p = int(p)\n",
    "        return self\n",
    "    \n",
    "    def __str__(self):\n",
    "        return \"%d %% %d\" % (self, self.p)\n",
    "\n",
    "    def __repr__(self):\n",
    "        return str(self)\n",
    "\n",
    "    def __neg__(self):\n",
    "        return ModP(self.p - int(self), self.p)\n",
    "    \n",
    "    def __add__(self, other):\n",
    "        return ModP(int(self) + int(other), self.p)\n",
    "    \n",
    "    def __radd__(self, other):\n",
    "        return ModP(int(other) + int(self), self.p)\n",
    "    \n",
    "    def __sub__(self, other):\n",
    "        return ModP(int(self) - int(other), self.p)\n",
    "    \n",
    "    def __rsub__(self, other):\n",
    "        return ModP(int(other) - int(self), self.p)\n",
    "    \n",
    "    def __mul__(self, other):\n",
    "        return ModP(int(self) * int(other), self.p)\n",
    "    \n",
    "    def __rmul__(self, other):\n",
    "        return ModP(int(other) * int(self), self.p)\n",
    "    \n",
    "    def __div__(self, other):\n",
    "        if not isinstance(other, ModP):\n",
    "            other = ModP(other, self.p)\n",
    "        return self * other._inv()\n",
    "    \n",
    "    def __rdiv__(self, other):\n",
    "        return other * self._inv()\n",
    "    \n",
    "    def __pow__(self, other):\n",
    "        assert(type(other) is int)\n",
    "        return ModP(int(self) ** int(other), self.p)\n",
    "    \n",
    "    def _inv(self):\n",
    "        'Find multiplicative inverse of self in Z mod p using the extended Euclidean algorithm.'\n",
    "\n",
    "        rcurr = self.p\n",
    "        rnext = int(self)\n",
    "        tcurr = 0\n",
    "        tnext = 1\n",
    "\n",
    "        while rnext:\n",
    "            q = rcurr // rnext\n",
    "            rcurr, rnext = rnext, rcurr - q * rnext\n",
    "            tcurr, tnext = tnext, tcurr - q * tnext\n",
    "\n",
    "        if rcurr != 1:\n",
    "            raise ValueError(\"Inverse of {} mod {} does not exist. Are you sure %d is prime?\" % (self, self.p, self.p))\n",
    "\n",
    "        return ModP(tcurr, self.p)"
   ]
  },
  {
   "cell_type": "code",
   "execution_count": 3,
   "metadata": {},
   "outputs": [],
   "source": [
    "oParticles = Particles(6, rational=True)"
   ]
  },
  {
   "cell_type": "code",
   "execution_count": 4,
   "metadata": {},
   "outputs": [],
   "source": [
    "p = 2 ** 31 - 1\n",
    "\n",
    "for oParticle in oParticles:\n",
    "    oParticle._r_sp_d = numpy.array([ModP(random.randrange(0, p), p), ModP(random.randrange(0, p), p)], dtype=ModP)\n",
    "    oParticle._r_sp_d.shape = (2, 1)\n",
    "    oParticle._r_sp_d_to_r_sp_u()\n",
    "    oParticle._four_mom = numpy.array([None, None, None, None])\n",
    "    oParticle.l_sp_d = numpy.array([ModP(random.randrange(0, p), p), ModP(random.randrange(0, p), p)], dtype=ModP)\n",
    "\n",
    "oParticles.fix_mom_cons()"
   ]
  },
  {
   "cell_type": "code",
   "execution_count": 5,
   "metadata": {},
   "outputs": [
    {
     "name": "stdout",
     "output_type": "stream",
     "text": [
      "[[0 % 2147483647 0 % 2147483647]\n",
      " [0 % 2147483647 0 % 2147483647]]\n",
      "0 % 2147483647\n",
      "0 % 2147483647\n",
      "0 % 2147483647\n",
      "0 % 2147483647\n",
      "0 % 2147483647\n",
      "0 % 2147483647\n"
     ]
    }
   ],
   "source": [
    "print(oParticles.total_mom)\n",
    "for i in range(len(oParticles)):\n",
    "    print(oParticles.ldot(i + 1, i + 1))"
   ]
  },
  {
   "cell_type": "code",
   "execution_count": 6,
   "metadata": {},
   "outputs": [],
   "source": [
    "oInvariants = Invariants(6)\n",
    "for oInv in oInvariants.full:\n",
    "    assert(type(oParticles.compute(oInv)) == ModP)"
   ]
  },
  {
   "cell_type": "code",
   "execution_count": 7,
   "metadata": {},
   "outputs": [],
   "source": [
    "# some definitions\n",
    "zab2_4231 = oParticles.compute(\"⟨4|(2+3)|1]\")\n",
    "zb_16 = oParticles.compute(\"[1|6]\")\n",
    "za_23 = oParticles.compute(\"⟨2|3⟩\")\n",
    "za_34 = oParticles.compute(\"⟨3|4⟩\")\n",
    "zb_56 = oParticles.compute(\"[5|6]\")\n",
    "zab2_2165 = oParticles.compute(\"⟨2|(1+6)|5]\")\n",
    "s_234 = oParticles.compute(\"s_234\")\n",
    "zab2_6123 = oParticles.compute(\"⟨6|(1+2)|3]\")\n",
    "za_12 = oParticles.compute(\"⟨1|2⟩\")\n",
    "za_16 = oParticles.compute(\"⟨1|6⟩\")\n",
    "zb_34 = oParticles.compute(\"[3|4]\")\n",
    "zb_45 = oParticles.compute(\"[4|5]\")\n",
    "s_345 = oParticles.compute(\"s_345\")"
   ]
  },
  {
   "cell_type": "code",
   "execution_count": 8,
   "metadata": {},
   "outputs": [],
   "source": [
    "mIA6g_pppmmm = zab2_4231 ** 3 / (zb_16 * za_23 * za_34 * zb_56 * zab2_2165 * s_234) - zab2_6123 ** 3 / (za_12 * za_16 * zb_34 * zb_45 * zab2_2165 * s_345)"
   ]
  },
  {
   "cell_type": "code",
   "execution_count": 9,
   "metadata": {},
   "outputs": [
    {
     "data": {
      "text/plain": [
       "2083655871 % 2147483647"
      ]
     },
     "execution_count": 9,
     "metadata": {},
     "output_type": "execute_result"
    }
   ],
   "source": [
    "mIA6g_pppmmm"
   ]
  },
  {
   "cell_type": "markdown",
   "metadata": {},
   "source": [
    "### p-adic Arithmetic"
   ]
  },
  {
   "cell_type": "code",
   "execution_count": 10,
   "metadata": {},
   "outputs": [],
   "source": [
    "def to_base(num, p):\n",
    "    if num < p:\n",
    "        return (num, )\n",
    "    else:\n",
    "        return (num % p, ) + (to_base(num // p, p))"
   ]
  },
  {
   "cell_type": "code",
   "execution_count": 11,
   "metadata": {},
   "outputs": [],
   "source": [
    "def padicfy(func):\n",
    "    @functools.wraps(func)\n",
    "    def wrapper_padicfy(self, other):\n",
    "        if type(other) is PAdic:\n",
    "            return func(self, other)\n",
    "        elif type(other) in [int, long, ModP, numpy.int64]:\n",
    "            return func(self, PAdic(other, self.p, self.k, 0))\n",
    "        else:\n",
    "            print(type(self), \", \", type(other))\n",
    "            print(self, \", \", other)\n",
    "            raise Exception\n",
    "    return wrapper_padicfy"
   ]
  },
  {
   "cell_type": "code",
   "execution_count": 12,
   "metadata": {},
   "outputs": [],
   "source": [
    "class PAdic(int):\n",
    "    \n",
    "    'PAdic Integers, with p prime.'\n",
    "    \n",
    "    def __new__(cls, num, p, k, n):\n",
    "        self = int.__new__(cls, int(num) % int(p ** k))\n",
    "        self.p = int(p)\n",
    "        self.k = int(k)\n",
    "        self.n = int(n)\n",
    "        return self\n",
    "    \n",
    "    @property\n",
    "    def as_tuple(self):\n",
    "        return (to_base(int(self), self.p) + tuple([0 for i in range(k)]))[:k]\n",
    "    \n",
    "    def __str__(self):\n",
    "        if self == 0:\n",
    "            return \"O({}^{})\".format(self.p, self.n + self.k)\n",
    "        else:\n",
    "            return \" + \".join(filter(lambda x: x is not None,\n",
    "                                     [\"{}\".format(i) if (j == 0 and i != 0) else\n",
    "                                      \"{}*{}\".format(i, self.p) if (j == 1 and i != 0) else\n",
    "                                      \"{}*{}^{}\".format(i, self.p, j) if (i != 0) else None\n",
    "                                      for i, j in zip(self.as_tuple, range(self.n, self.n + self.k))])) + \" + O({}^{})\".format(self.p, self.n + self.k)\n",
    "\n",
    "    def __repr__(self):\n",
    "        return str(self)\n",
    "\n",
    "    @padicfy\n",
    "    def __add__(self, other):\n",
    "        if self.n > other.n:\n",
    "            return other + self\n",
    "        else:\n",
    "            return PAdic((int(self) + int(other) * self.p ** (other.n - self.n)) % self.p ** self.k, self.p, self.k, self.n)\n",
    "\n",
    "    @padicfy\n",
    "    def __radd__(self, other):\n",
    "        return other + self\n",
    "    \n",
    "    @padicfy\n",
    "    def __sub__(self, other):\n",
    "        return self + (- other)\n",
    "    \n",
    "    @padicfy\n",
    "    def __rsub__(self, other):\n",
    "        return - (self - other)\n",
    "        \n",
    "    @padicfy\n",
    "    def __mul__(self, other):\n",
    "        return PAdic((int(self) * int(other)) % self.p ** self.k, self.p, self.k, self.n + other.n)\n",
    "    \n",
    "    @padicfy\n",
    "    def __rmul__(self, other):\n",
    "        return other * self\n",
    "    \n",
    "    @padicfy\n",
    "    def __div__(self, other):\n",
    "        if other == 0:\n",
    "            raise ZeroDivisionError\n",
    "        p_fact = next(i for i, j in enumerate(other.as_tuple) if j != 0)\n",
    "        return PAdic(self *  ModP(int(other) / other.p ** p_fact, other.p ** other.k)._inv() % self.p ** self.k, self.p, self.k, self.n - other.n - p_fact)\n",
    "    \n",
    "    @padicfy\n",
    "    def __rdiv__(self, other):\n",
    "        return other / self\n",
    "\n",
    "    def __neg__(self):\n",
    "        return PAdic((-1 * int(self)) % self.p ** self.k, self.p, self.k, self.n)\n",
    "    \n",
    "    def __pow__(self, n):\n",
    "        assert(isinstance(n, int) or n.is_integer())\n",
    "        if n == 0:\n",
    "            return PAdic(1, self.p, self.k, 0)\n",
    "        elif n % 2 == 0:\n",
    "            root_2_res = self ** (n / 2)\n",
    "            return root_2_res * root_2_res\n",
    "        else:\n",
    "            return self * (self ** (n - 1))"
   ]
  },
  {
   "cell_type": "code",
   "execution_count": 13,
   "metadata": {},
   "outputs": [],
   "source": [
    "oParticles = Particles(6, rational=True)"
   ]
  },
  {
   "cell_type": "code",
   "execution_count": 14,
   "metadata": {},
   "outputs": [],
   "source": [
    "p = 2 ** 31 - 1\n",
    "k = 2\n",
    "n = 0\n",
    "\n",
    "for oParticle in oParticles:\n",
    "    oParticle._r_sp_d = numpy.array([PAdic(random.randrange(0, 200), p, k, n), PAdic(random.randrange(0, 200), p, k, n)], dtype=PAdic)\n",
    "    oParticle._r_sp_d.shape = (2, 1)\n",
    "    oParticle._r_sp_d_to_r_sp_u()\n",
    "    oParticle._four_mom = numpy.array([None, None, None, None])\n",
    "    oParticle.l_sp_d = numpy.array([PAdic(random.randrange(0, 200), p, k, n), PAdic(random.randrange(0, 200), p, k, n)], dtype=PAdic)\n",
    "\n",
    "oParticles.fix_mom_cons()"
   ]
  },
  {
   "cell_type": "code",
   "execution_count": 15,
   "metadata": {},
   "outputs": [
    {
     "data": {
      "text/plain": [
       "True"
      ]
     },
     "execution_count": 15,
     "metadata": {},
     "output_type": "execute_result"
    }
   ],
   "source": [
    "# oParticles.set(\"⟨2|(1+6)|5]\", PAdic(p, p, k, n))\n",
    "oParticles.set(\"⟨1|2⟩\", PAdic(p, p, k, n))"
   ]
  },
  {
   "cell_type": "code",
   "execution_count": 16,
   "metadata": {},
   "outputs": [
    {
     "data": {
      "text/plain": [
       "1*2147483647 + O(2147483647^2)"
      ]
     },
     "execution_count": 16,
     "metadata": {},
     "output_type": "execute_result"
    }
   ],
   "source": [
    "oParticles.compute(\"⟨1|2⟩\")"
   ]
  },
  {
   "cell_type": "code",
   "execution_count": 17,
   "metadata": {},
   "outputs": [
    {
     "name": "stdout",
     "output_type": "stream",
     "text": [
      "[[O(2147483647^2) O(2147483647^2)]\n",
      " [O(2147483647^2) O(2147483647^2)]]\n",
      "O(2147483647^2)\n",
      "O(2147483647^2)\n",
      "O(2147483647^2)\n",
      "O(2147483647^2)\n",
      "O(2147483647^2)\n",
      "O(2147483647^2)\n"
     ]
    }
   ],
   "source": [
    "print(oParticles.total_mom)\n",
    "for i in range(len(oParticles)):\n",
    "    print(oParticles.ldot(i + 1, i + 1))"
   ]
  },
  {
   "cell_type": "code",
   "execution_count": 18,
   "metadata": {},
   "outputs": [],
   "source": [
    "oInvariants = Invariants(6)\n",
    "for oInv in oInvariants.full:\n",
    "    assert(type(oParticles.compute(oInv)) == PAdic)"
   ]
  },
  {
   "cell_type": "code",
   "execution_count": 19,
   "metadata": {},
   "outputs": [],
   "source": [
    "# some definitions\n",
    "zab2_4231 = oParticles.compute(\"⟨4|(2+3)|1]\")\n",
    "zb_16 = oParticles.compute(\"[1|6]\")\n",
    "za_23 = oParticles.compute(\"⟨2|3⟩\")\n",
    "za_34 = oParticles.compute(\"⟨3|4⟩\")\n",
    "zb_56 = oParticles.compute(\"[5|6]\")\n",
    "zab2_2165 = oParticles.compute(\"⟨2|(1+6)|5]\")\n",
    "s_234 = oParticles.compute(\"s_234\")\n",
    "zab2_6123 = oParticles.compute(\"⟨6|(1+2)|3]\")\n",
    "za_12 = oParticles.compute(\"⟨1|2⟩\")\n",
    "za_16 = oParticles.compute(\"⟨1|6⟩\")\n",
    "zb_34 = oParticles.compute(\"[3|4]\")\n",
    "zb_45 = oParticles.compute(\"[4|5]\")\n",
    "s_345 = oParticles.compute(\"s_345\")"
   ]
  },
  {
   "cell_type": "code",
   "execution_count": 20,
   "metadata": {},
   "outputs": [],
   "source": [
    "mIA6g_pppmmm = zab2_4231 ** 3 / (zb_16 * za_23 * za_34 * zb_56 * zab2_2165 * s_234) - zab2_6123 ** 3 / (za_12 * za_16 * zb_34 * zb_45 * zab2_2165 * s_345)"
   ]
  },
  {
   "cell_type": "code",
   "execution_count": 21,
   "metadata": {},
   "outputs": [
    {
     "data": {
      "text/plain": [
       "40992594 + 1317218337*2147483647 + O(2147483647^2)"
      ]
     },
     "execution_count": 21,
     "metadata": {},
     "output_type": "execute_result"
    }
   ],
   "source": [
    "zab2_4231 ** 3 / (zb_16 * za_23 * za_34 * zb_56 * zab2_2165 * s_234)"
   ]
  },
  {
   "cell_type": "code",
   "execution_count": 22,
   "metadata": {},
   "outputs": [
    {
     "data": {
      "text/plain": [
       "1342329002*2147483647^-1 + 1984102072 + O(2147483647^1)"
      ]
     },
     "execution_count": 22,
     "metadata": {},
     "output_type": "execute_result"
    }
   ],
   "source": [
    "- zab2_6123 ** 3 / (za_12 * za_16 * zb_34 * zb_45 * zab2_2165 * s_345)"
   ]
  },
  {
   "cell_type": "code",
   "execution_count": 23,
   "metadata": {},
   "outputs": [
    {
     "data": {
      "text/plain": [
       "1342329002*2147483647^-1 + 2025094666 + O(2147483647^1)"
      ]
     },
     "execution_count": 23,
     "metadata": {},
     "output_type": "execute_result"
    }
   ],
   "source": [
    "mIA6g_pppmmm"
   ]
  },
  {
   "cell_type": "markdown",
   "metadata": {},
   "source": [
    "### Subclassing numbers.Rational ?"
   ]
  },
  {
   "cell_type": "code",
   "execution_count": 24,
   "metadata": {
    "code_folding": [
     0
    ]
   },
   "outputs": [],
   "source": [
    "class rational_subclass(numbers.Rational):\n",
    "    \n",
    "    # __slots__ = ('_numerator', '_denominator')\n",
    "    \n",
    "    def __new__(cls):\n",
    "        self = super(rational_subclass, cls).__new__(cls)\n",
    "        \n",
    "        self._numerator = 1\n",
    "        self._denominator = 31\n",
    "        \n",
    "        return self\n",
    "    \n",
    "    @property\n",
    "    def numerator(self):\n",
    "        return self._numerator\n",
    "    \n",
    "    @property\n",
    "    def denominator(self):\n",
    "        return self._denominator\n",
    "    \n",
    "    def __abs__(self):\n",
    "        pass\n",
    "    \n",
    "    def __add__(self, other):\n",
    "        pass\n",
    "    \n",
    "    def __div__(self, other):\n",
    "        pass\n",
    "    \n",
    "    def __eq__(self, other):\n",
    "        pass\n",
    "    \n",
    "    def __floordiv__(self, other):\n",
    "        pass\n",
    "    \n",
    "    def __le__(self, other):\n",
    "        pass\n",
    "    \n",
    "    def __lt__(self, other):\n",
    "        pass\n",
    "    \n",
    "    def __mod__(self, other):\n",
    "        pass\n",
    "    \n",
    "    def __mul__(self, other):\n",
    "        pass\n",
    "    \n",
    "    def __neg__(self, other):\n",
    "        pass\n",
    "    \n",
    "    def __pos__(self, other):\n",
    "        pass\n",
    "    \n",
    "    def __pow__(self, other):\n",
    "        pass\n",
    "    \n",
    "    def __radd__(self, other):\n",
    "        pass\n",
    "    \n",
    "    def __rdiv__(self, other):\n",
    "        pass\n",
    "    \n",
    "    def __rfloordiv__(self, other):\n",
    "        pass\n",
    "    \n",
    "    def __rmod__(self, other):\n",
    "        pass\n",
    "    \n",
    "    def __rmul__(self, other):\n",
    "        pass\n",
    "    \n",
    "    def __rpow__(self, other):\n",
    "        pass\n",
    "    \n",
    "    def __rtruediv__(self, other):\n",
    "        pass\n",
    "    \n",
    "    def __truediv__(self, other):\n",
    "        pass\n",
    "    \n",
    "    def __trunc__(self, other):\n",
    "        pass"
   ]
  }
 ],
 "metadata": {
  "kernelspec": {
   "display_name": "Python 2",
   "language": "python",
   "name": "python2"
  },
  "language_info": {
   "codemirror_mode": {
    "name": "ipython",
    "version": 2
   },
   "file_extension": ".py",
   "mimetype": "text/x-python",
   "name": "python",
   "nbconvert_exporter": "python",
   "pygments_lexer": "ipython2",
   "version": "2.7.12"
  }
 },
 "nbformat": 4,
 "nbformat_minor": 2
}
