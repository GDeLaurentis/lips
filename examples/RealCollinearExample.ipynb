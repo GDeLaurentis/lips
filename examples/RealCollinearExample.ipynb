{
 "cells": [
  {
   "cell_type": "code",
   "execution_count": null,
   "id": "8e3940c2",
   "metadata": {},
   "outputs": [],
   "source": [
    "from syngular import Field\n",
    "\n",
    "from lips import Particles, Invariants\n",
    "from lips.tools import MinkowskiMetric as η"
   ]
  },
  {
   "cell_type": "code",
   "execution_count": null,
   "id": "aab7f0d3",
   "metadata": {},
   "outputs": [],
   "source": [
    "invs = Invariants(6).full  # to check what vanishes"
   ]
  },
  {
   "cell_type": "code",
   "execution_count": null,
   "id": "83763a66",
   "metadata": {},
   "outputs": [],
   "source": [
    "oPs = Particles(6, real_momenta=True, field=Field(\"mpc\", 0, 32), fix_mom_cons=False)  # six-point config, real momenta, 32 digits, not momentum conserving\n",
    "oPs.fix_mom_cons(1, 2, real_momenta=True)  # fix momentum conservation by recoiling particles 1 and 2"
   ]
  },
  {
   "cell_type": "code",
   "execution_count": null,
   "id": "03d1b0dd",
   "metadata": {},
   "outputs": [],
   "source": [
    "oPs._set(\"⟨5|6⟩\", 10 ** -10, fix_mom=False)  # sets ⟨5|6⟩ to 10^-10, breaks momentum conservation"
   ]
  },
  {
   "cell_type": "code",
   "execution_count": null,
   "id": "8fd29a5c",
   "metadata": {},
   "outputs": [],
   "source": [
    "oPs[\"|6]\"] = oPs[\"⟨6|\"].conjugate()  # force conjugate relation between brackets"
   ]
  },
  {
   "cell_type": "code",
   "execution_count": null,
   "id": "85cf4c4e",
   "metadata": {},
   "outputs": [],
   "source": [
    "oPs.fix_mom_cons(1, 2, real_momenta=True)  # restore momentum conservation on legs 1 and 2"
   ]
  },
  {
   "cell_type": "code",
   "execution_count": null,
   "id": "e04a64c1",
   "metadata": {
    "scrolled": true
   },
   "outputs": [],
   "source": [
    "oPs.phasespace_consistency_check(silent=False, invariants=invs);  # check on-shellness, momentum conservation, and outliers in abs val in the invariant list"
   ]
  },
  {
   "cell_type": "code",
   "execution_count": null,
   "id": "88147489",
   "metadata": {},
   "outputs": [],
   "source": [
    "print(\"tr(γ^5 P_1 P_2 P_5 P_6):\", oPs(\"tr5_1256\"))  # tr5 involving 5,6 will vanish, this is tr(γ^5 P_1 P_2 P_5 P_6)"
   ]
  },
  {
   "cell_type": "code",
   "execution_count": null,
   "id": "a0b25ed5",
   "metadata": {
    "scrolled": false
   },
   "outputs": [],
   "source": [
    "print(\"P_5^μ @ η_μν @ P_6^ν:\", oPs[5].four_mom @ η @ oPs[6].four_mom)  # check that P_5^μ @ η_μν @ P_6^ν is small"
   ]
  },
  {
   "cell_type": "code",
   "execution_count": null,
   "id": "5cbc02d3",
   "metadata": {
    "code_folding": [],
    "scrolled": true
   },
   "outputs": [],
   "source": [
    "for oP in oPs:  # print all momenta (should still be all real); what is incoming and what is outgoing will be random (see sign of the energy)\n",
    "    print(oP.four_mom)"
   ]
  },
  {
   "cell_type": "code",
   "execution_count": null,
   "id": "360a8294",
   "metadata": {},
   "outputs": [],
   "source": []
  }
 ],
 "metadata": {
  "kernelspec": {
   "display_name": "Python 3 (ipykernel)",
   "language": "python",
   "name": "python3"
  },
  "language_info": {
   "codemirror_mode": {
    "name": "ipython",
    "version": 3
   },
   "file_extension": ".py",
   "mimetype": "text/x-python",
   "name": "python",
   "nbconvert_exporter": "python",
   "pygments_lexer": "ipython3",
   "version": "3.10.12"
  },
  "toc": {
   "base_numbering": 1,
   "nav_menu": {},
   "number_sections": true,
   "sideBar": true,
   "skip_h1_title": true,
   "title_cell": "Table of Contents",
   "title_sidebar": "Contents",
   "toc_cell": false,
   "toc_position": {},
   "toc_section_display": true,
   "toc_window_display": false
  }
 },
 "nbformat": 4,
 "nbformat_minor": 5
}
